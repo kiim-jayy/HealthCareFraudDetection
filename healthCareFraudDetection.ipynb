{
 "cells": [
  {
   "cell_type": "code",
   "execution_count": 4,
   "metadata": {},
   "outputs": [],
   "source": [
    "import pandas as pd\n",
    "import numpy as np\n",
    "%matplotlib inline\n",
    "import matplotlib.pyplot as plt\n",
    "import seaborn as sns\n"
   ]
  },
  {
   "cell_type": "markdown",
   "metadata": {},
   "source": [
    "## Importing Data Sets"
   ]
  },
  {
   "cell_type": "code",
   "execution_count": 10,
   "metadata": {},
   "outputs": [],
   "source": [
    "# Training data sets\n",
    "train_beneficiarydata = pd.read_csv(\"./healthCareData/train_beneficiarydata.csv\")\n",
    "train_inpatientdata = pd.read_csv(\"./healthCareData/train_inpatientdata.csv\")\n",
    "train_outpatientdata = pd.read_csv(\"./healthCareData/train_outpatientdata.csv\")\n",
    "train_potentialfraud = pd.read_csv(\"./healthCareData/train_potentialfraud.csv\")\n",
    "\n",
    "#Testing data sets\n",
    "test_beneficiarydata = pd.read_csv(\"./healthCareData/test_beneficiarydata.csv\")\n",
    "test_inpatientdata = pd.read_csv(\"./healthCareData/test_inpatientdata.csv\")\n",
    "test_outpatientdata = pd.read_csv(\"./healthCareData/test_outpatientdata.csv\")\n",
    "test_potentialfraud = pd.read_csv(\"./healthCareData/test_potentialfraud.csv\")\n"
   ]
  }
 ],
 "metadata": {
  "kernelspec": {
   "display_name": "Python 3",
   "language": "python",
   "name": "python3"
  },
  "language_info": {
   "codemirror_mode": {
    "name": "ipython",
    "version": 3
   },
   "file_extension": ".py",
   "mimetype": "text/x-python",
   "name": "python",
   "nbconvert_exporter": "python",
   "pygments_lexer": "ipython3",
   "version": "3.7.6"
  }
 },
 "nbformat": 4,
 "nbformat_minor": 4
}
