{
 "cells": [
  {
   "cell_type": "code",
   "execution_count": 1,
   "metadata": {},
   "outputs": [],
   "source": [
    "import pandas as pd\n",
    "import numpy as np\n",
    "%matplotlib inline\n",
    "import matplotlib.pyplot as plt\n",
    "import seaborn as sns\n"
   ]
  },
  {
   "cell_type": "markdown",
   "metadata": {},
   "source": [
    "## Data Preparation"
   ]
  },
  {
   "cell_type": "code",
   "execution_count": 2,
   "metadata": {},
   "outputs": [],
   "source": [
    "# Training data sets\n",
    "train_beneficiarydata = pd.read_csv(\"./healthCareData/train_beneficiarydata.csv\")\n",
    "train_inpatientdata = pd.read_csv(\"./healthCareData/train_inpatientdata.csv\")\n",
    "train_outpatientdata = pd.read_csv(\"./healthCareData/train_outpatientdata.csv\")\n",
    "train_potentialfraud = pd.read_csv(\"./healthCareData/train_potentialfraud.csv\")\n",
    "\n",
    "#Testing data sets\n",
    "test_beneficiarydata = pd.read_csv(\"./healthCareData/test_beneficiarydata.csv\")\n",
    "test_inpatientdata = pd.read_csv(\"./healthCareData/test_inpatientdata.csv\")\n",
    "test_outpatientdata = pd.read_csv(\"./healthCareData/test_outpatientdata.csv\")\n",
    "test_potentialfraud = pd.read_csv(\"./healthCareData/test_potentialfraud.csv\")\n"
   ]
  },
  {
   "cell_type": "code",
   "execution_count": 3,
   "metadata": {},
   "outputs": [],
   "source": [
    "pd.options.display.max_columns = None\n"
   ]
  },
  {
   "cell_type": "code",
   "execution_count": 4,
   "metadata": {},
   "outputs": [
    {
     "data": {
      "text/plain": [
       "(11605,)"
      ]
     },
     "execution_count": 4,
     "metadata": {},
     "output_type": "execute_result"
    }
   ],
   "source": [
    "#How many medical doctors are there in the train outpatient dataset?\n",
    "train_outpatientdata.AttendingPhysician.unique().shape  # there are 74,110 attending physicians\n",
    "\n",
    "#How many medical doctors are there in the train inpatient dataset? Do they match with those from the outpatient record?\n",
    "train_inpatientdata.AttendingPhysician.unique().shape  # there are 11,605 attending phsyicians. There are more providers on the outpatient data"
   ]
  },
  {
   "cell_type": "code",
   "execution_count": 5,
   "metadata": {},
   "outputs": [],
   "source": [
    "#Create columns for inpatient and outpatient data.\n",
    "train_inpatientdata['patientType'] = np.repeat('inpatient', len(train_inpatientdata))\n",
    "train_outpatientdata['patientType'] = np.repeat('outpatient', len(train_outpatientdata))\n",
    "\n"
   ]
  },
  {
   "cell_type": "code",
   "execution_count": 6,
   "metadata": {},
   "outputs": [
    {
     "data": {
      "text/plain": [
       "(138556,)"
      ]
     },
     "execution_count": 6,
     "metadata": {},
     "output_type": "execute_result"
    }
   ],
   "source": [
    "#Combining the inpatient and outpatient data\n",
    "patient = pd.concat([train_inpatientdata, train_outpatientdata], axis=0)\n",
    "patient.BeneID.unique().shape"
   ]
  },
  {
   "cell_type": "code",
   "execution_count": 7,
   "metadata": {},
   "outputs": [],
   "source": [
    "#Merge the patient data frame and \n",
    "full_data =pd.merge(patient, train_beneficiarydata, on='BeneID', how='left')"
   ]
  },
  {
   "cell_type": "code",
   "execution_count": 23,
   "metadata": {},
   "outputs": [],
   "source": [
    "full_data= pd.merge(full_data, train_potentialfraud, on='Provider', how='left')"
   ]
  },
  {
   "cell_type": "markdown",
   "metadata": {},
   "source": [
    "# Exploratory Data Analysis"
   ]
  },
  {
   "cell_type": "markdown",
   "metadata": {},
   "source": [
    "## Doctors and Providers"
   ]
  },
  {
   "cell_type": "markdown",
   "metadata": {},
   "source": [
    "### How many medical doctors are there in the train outpatient dataset? How many medical doctors are there in the train inpatient dataset? Do they match with those from the outpatient record?\n",
    "\n",
    "- There are 11,605 doctors in the inpatient data and 74,110 doctors in the outpatient data."
   ]
  },
  {
   "cell_type": "markdown",
   "metadata": {},
   "source": [
    "### Do those inpatient patients show worse health conditions (in terms of chronic diseases) than typical outpatient patients?"
   ]
  },
  {
   "cell_type": "code",
   "execution_count": 8,
   "metadata": {},
   "outputs": [
    {
     "name": "stdout",
     "output_type": "stream",
     "text": [
      "11605\n",
      "74110\n"
     ]
    }
   ],
   "source": [
    "print(full_data.loc[full_data.patientType=='inpatient'].AttendingPhysician.unique().shape[0])\n",
    "print(full_data.loc[full_data.patientType=='outpatient'].AttendingPhysician.unique().shape[0])\n"
   ]
  },
  {
   "cell_type": "markdown",
   "metadata": {},
   "source": [
    "### Do doctors serve for different providers? Study the distribution of hospital counts/doctor? Is it possible to characterize those doctors who move around among different providers?\n",
    "\n",
    "- Most doctors have a connection of 1 clinic. "
   ]
  },
  {
   "cell_type": "code",
   "execution_count": 9,
   "metadata": {},
   "outputs": [
    {
     "name": "stdout",
     "output_type": "stream",
     "text": [
      "1    76844\n",
      "2     4741\n",
      "3      382\n",
      "4       65\n",
      "5       19\n",
      "6        9\n",
      "9        1\n",
      "8        1\n",
      "7        1\n",
      "Name: NumProvider, dtype: int64\n"
     ]
    }
   ],
   "source": [
    "physician= full_data.groupby(['AttendingPhysician','Provider'])['Provider'].count().\\\n",
    "reset_index(name='NumProvider').groupby(['AttendingPhysician'])['NumProvider'].count().reset_index()\n",
    "\n",
    "print(physician.NumProvider.value_counts())\n"
   ]
  },
  {
   "cell_type": "code",
   "execution_count": 10,
   "metadata": {},
   "outputs": [],
   "source": [
    "phy3 = physician.loc[physician.NumProvider==9]\n",
    "\n",
    "phy4 = pd.concat([phy3, full_data[['AttendingPhysician', 'Provider']]], axis=1)\n",
    "phy5 = pd.merge(phy4, train_potentialfraud, on='Provider', how='left')\n"
   ]
  },
  {
   "cell_type": "code",
   "execution_count": 11,
   "metadata": {},
   "outputs": [
    {
     "data": {
      "text/plain": [
       "Text(0, 0.5, 'number of doctors per provider')"
      ]
     },
     "execution_count": 11,
     "metadata": {},
     "output_type": "execute_result"
    },
    {
     "data": {
      "image/png": "[encoded data removed]",
      "text/plain": [
       "<Figure size 432x288 with 1 Axes>"
      ]
     },
     "metadata": {
      "needs_background": "light"
     },
     "output_type": "display_data"
    }
   ],
   "source": [
    "doctors = full_data.groupby(['Provider', 'AttendingPhysician'])['AttendingPhysician'].count().reset_index(name='NumOfDoctors').\\\n",
    "groupby('Provider')['NumOfDoctors'].count().reset_index()\n",
    "\n",
    "doctors2 = pd.merge(doctors, train_potentialfraud, on='Provider', how='left')\n",
    "\n",
    "\n",
    "sns.boxplot(x='PotentialFraud', y='NumOfDoctors', data=doctors2, showfliers=False)\n",
    "plt.title('Number Of Doctors Per Provider')\n",
    "plt.xlabel('potential fraud')\n",
    "plt.ylabel('number of doctors per provider')"
   ]
  },
  {
   "cell_type": "markdown",
   "metadata": {},
   "source": [
    "## Feature Engineering\n",
    "\n",
    "- add number of doctors"
   ]
  },
  {
   "cell_type": "code",
   "execution_count": 12,
   "metadata": {},
   "outputs": [
    {
     "data": {
      "text/html": [
       "<div>\n",
       "<style scoped>\n",
       "    .dataframe tbody tr th:only-of-type {\n",
       "        vertical-align: middle;\n",
       "    }\n",
       "\n",
       "    .dataframe tbody tr th {\n",
       "        vertical-align: top;\n",
       "    }\n",
       "\n",
       "    .dataframe thead th {\n",
       "        text-align: right;\n",
       "    }\n",
       "</style>\n",
       "<table border=\"1\" class=\"dataframe\">\n",
       "  <thead>\n",
       "    <tr style=\"text-align: right;\">\n",
       "      <th></th>\n",
       "      <th>Provider</th>\n",
       "      <th>PotentialFraud</th>\n",
       "      <th>NumOfDoctors</th>\n",
       "    </tr>\n",
       "  </thead>\n",
       "  <tbody>\n",
       "    <tr>\n",
       "      <th>1597</th>\n",
       "      <td>PRV52986</td>\n",
       "      <td>No</td>\n",
       "      <td>18</td>\n",
       "    </tr>\n",
       "    <tr>\n",
       "      <th>1864</th>\n",
       "      <td>PRV53326</td>\n",
       "      <td>No</td>\n",
       "      <td>5</td>\n",
       "    </tr>\n",
       "  </tbody>\n",
       "</table>\n",
       "</div>"
      ],
      "text/plain": [
       "      Provider PotentialFraud  NumOfDoctors\n",
       "1597  PRV52986             No            18\n",
       "1864  PRV53326             No             5"
      ]
     },
     "execution_count": 12,
     "metadata": {},
     "output_type": "execute_result"
    }
   ],
   "source": [
    "doctors= full_data.groupby(['Provider', 'AttendingPhysician'])['AttendingPhysician'].count().\\\n",
    "reset_index(name='NumOfDoctors').groupby('Provider')['NumOfDoctors'].count().reset_index()\n",
    "\n",
    "trainProvider = pd.merge(train_potentialfraud, doctors, on='Provider')\n",
    "trainProvider.sample(2)\n"
   ]
  },
  {
   "cell_type": "markdown",
   "metadata": {},
   "source": [
    "## Providers and Patients"
   ]
  },
  {
   "cell_type": "markdown",
   "metadata": {},
   "source": [
    "### How many distinct patients (BeneIDs) are there in the in/out-patient datasets?\n",
    "- There are 31,289 inpatient patients and 133,980 outpatient patients"
   ]
  },
  {
   "cell_type": "code",
   "execution_count": 19,
   "metadata": {},
   "outputs": [
    {
     "name": "stdout",
     "output_type": "stream",
     "text": [
      "31289\n",
      "133980\n"
     ]
    }
   ],
   "source": [
    "print(full_data.loc[full_data.patientType=='inpatient'].BeneID.unique().shape[0])\n",
    "print(full_data.loc[full_data.patientType=='outpatient'].BeneID.unique().shape[0])\n"
   ]
  },
  {
   "cell_type": "markdown",
   "metadata": {},
   "source": [
    "### Do patients go to different hospitals? Study the distribution of hospital counts/patient? It is possible to characterize those patients who receive services from a lot of different hospitals?¶\n",
    "We can characterize these patients by the number of providers they have. We can generate a new feature providers per patient."
   ]
  },
  {
   "cell_type": "code",
   "execution_count": 24,
   "metadata": {},
   "outputs": [],
   "source": [
    "patient= full_data.groupby(['BeneID', 'Provider', 'PotentialFraud'])['BeneID'].count().reset_index(name='NumProvider').\\\n",
    "groupby(['BeneID', 'PotentialFraud'])['NumProvider'].count().reset_index()\n"
   ]
  },
  {
   "cell_type": "code",
   "execution_count": 25,
   "metadata": {},
   "outputs": [
    {
     "data": {
      "text/plain": [
       "Text(0.5, 1.0, 'Proportion of Providers Per Patient')"
      ]
     },
     "execution_count": 25,
     "metadata": {},
     "output_type": "execute_result"
    },
    {
     "data": {
      "image/png": "[encoded data removed]",
      "text/plain": [
       "<Figure size 576x432 with 1 Axes>"
      ]
     },
     "metadata": {
      "needs_background": "light"
     },
     "output_type": "display_data"
    }
   ],
   "source": [
    "plt.subplots(figsize=(8,6))\n",
    "sns.distplot(patient['NumProvider'], hist=False)\n",
    "plt.xlabel('providers per patient')\n",
    "plt.title('Proportion of Providers Per Patient')"
   ]
  },
  {
   "cell_type": "code",
   "execution_count": 26,
   "metadata": {},
   "outputs": [
    {
     "data": {
      "text/plain": [
       "<matplotlib.axes._subplots.AxesSubplot at 0x2878054f988>"
      ]
     },
     "execution_count": 26,
     "metadata": {},
     "output_type": "execute_result"
    },
    {
     "data": {
      "image/png": "[encoded data removed]",
      "text/plain": [
       "<Figure size 432x288 with 1 Axes>"
      ]
     },
     "metadata": {
      "needs_background": "light"
     },
     "output_type": "display_data"
    }
   ],
   "source": [
    "patients = full_data.groupby(['Provider', 'BeneID'])['BeneID'].count().reset_index(name='NumOfPatients').\\\n",
    "groupby('Provider')['NumOfPatients'].count().reset_index()\n",
    "\n",
    "provider_patient= pd.merge(patients, train_potentialfraud, on='Provider', how='left')\n",
    "\n",
    "sns.boxplot(x='PotentialFraud', y='NumOfPatients', data=provider_patient, showfliers=False)\n"
   ]
  },
  {
   "cell_type": "markdown",
   "metadata": {},
   "source": [
    "## Feature Engineering\n",
    "- add number of patients"
   ]
  },
  {
   "cell_type": "code",
   "execution_count": 27,
   "metadata": {},
   "outputs": [
    {
     "data": {
      "text/html": [
       "<div>\n",
       "<style scoped>\n",
       "    .dataframe tbody tr th:only-of-type {\n",
       "        vertical-align: middle;\n",
       "    }\n",
       "\n",
       "    .dataframe tbody tr th {\n",
       "        vertical-align: top;\n",
       "    }\n",
       "\n",
       "    .dataframe thead th {\n",
       "        text-align: right;\n",
       "    }\n",
       "</style>\n",
       "<table border=\"1\" class=\"dataframe\">\n",
       "  <thead>\n",
       "    <tr style=\"text-align: right;\">\n",
       "      <th></th>\n",
       "      <th>Provider</th>\n",
       "      <th>PotentialFraud</th>\n",
       "      <th>NumOfDoctors</th>\n",
       "      <th>NumOfPatients</th>\n",
       "    </tr>\n",
       "  </thead>\n",
       "  <tbody>\n",
       "    <tr>\n",
       "      <th>959</th>\n",
       "      <td>PRV52197</td>\n",
       "      <td>No</td>\n",
       "      <td>4</td>\n",
       "      <td>10</td>\n",
       "    </tr>\n",
       "    <tr>\n",
       "      <th>1413</th>\n",
       "      <td>PRV52754</td>\n",
       "      <td>No</td>\n",
       "      <td>1</td>\n",
       "      <td>1</td>\n",
       "    </tr>\n",
       "  </tbody>\n",
       "</table>\n",
       "</div>"
      ],
      "text/plain": [
       "      Provider PotentialFraud  NumOfDoctors  NumOfPatients\n",
       "959   PRV52197             No             4             10\n",
       "1413  PRV52754             No             1              1"
      ]
     },
     "execution_count": 27,
     "metadata": {},
     "output_type": "execute_result"
    }
   ],
   "source": [
    "patient= full_data.groupby(['Provider','BeneID'])['BeneID'].count().reset_index(name='NumOfPatients').\\\n",
    "groupby('Provider')['NumOfPatients'].count().reset_index()\n",
    "\n",
    "trainProvider2 = pd.merge(trainProvider, patient, on='Provider', how='left')\n",
    "trainProvider2.sample(2)"
   ]
  },
  {
   "cell_type": "code",
   "execution_count": 28,
   "metadata": {},
   "outputs": [
    {
     "data": {
      "text/html": [
       "<div>\n",
       "<style scoped>\n",
       "    .dataframe tbody tr th:only-of-type {\n",
       "        vertical-align: middle;\n",
       "    }\n",
       "\n",
       "    .dataframe tbody tr th {\n",
       "        vertical-align: top;\n",
       "    }\n",
       "\n",
       "    .dataframe thead th {\n",
       "        text-align: right;\n",
       "    }\n",
       "</style>\n",
       "<table border=\"1\" class=\"dataframe\">\n",
       "  <thead>\n",
       "    <tr style=\"text-align: right;\">\n",
       "      <th></th>\n",
       "      <th>Provider</th>\n",
       "      <th>NumOfPatients</th>\n",
       "      <th>PotentialFraud</th>\n",
       "    </tr>\n",
       "  </thead>\n",
       "  <tbody>\n",
       "    <tr>\n",
       "      <th>584</th>\n",
       "      <td>PRV51732</td>\n",
       "      <td>12</td>\n",
       "      <td>No</td>\n",
       "    </tr>\n",
       "    <tr>\n",
       "      <th>1258</th>\n",
       "      <td>PRV52564</td>\n",
       "      <td>21</td>\n",
       "      <td>No</td>\n",
       "    </tr>\n",
       "  </tbody>\n",
       "</table>\n",
       "</div>"
      ],
      "text/plain": [
       "      Provider  NumOfPatients PotentialFraud\n",
       "584   PRV51732             12             No\n",
       "1258  PRV52564             21             No"
      ]
     },
     "execution_count": 28,
     "metadata": {},
     "output_type": "execute_result"
    }
   ],
   "source": [
    "patient= full_data.groupby(['Provider','BeneID'])['BeneID'].count().reset_index(name='NumOfPatients').\\\n",
    "groupby('Provider')['NumOfPatients'].count().reset_index()\n",
    "\n",
    "trainProvider = pd.merge(patient, train_potentialfraud, on='Provider')\n",
    "trainProvider.sample(2)"
   ]
  },
  {
   "cell_type": "markdown",
   "metadata": {},
   "source": [
    "## How  does providers' number of doctors and patients help detect fraud?"
   ]
  },
  {
   "cell_type": "code",
   "execution_count": 29,
   "metadata": {},
   "outputs": [
    {
     "data": {
      "text/plain": [
       "Text(0, 0.5, 'number of patients')"
      ]
     },
     "execution_count": 29,
     "metadata": {},
     "output_type": "execute_result"
    },
    {
     "data": {
      "image/png": "[encoded data removed]",
      "text/plain": [
       "<Figure size 432x288 with 1 Axes>"
      ]
     },
     "metadata": {
      "needs_background": "light"
     },
     "output_type": "display_data"
    }
   ],
   "source": [
    "sns.scatterplot(x='NumOfDoctors', y='NumOfPatients', data=trainProvider2, hue='PotentialFraud')\n",
    "plt.title('Number Of Doctors And Patients Per Provider')\n",
    "plt.xlabel('number of doctors')\n",
    "plt.ylabel('number of patients')"
   ]
  },
  {
   "cell_type": "markdown",
   "metadata": {},
   "source": [
    "## Providers and Type of service"
   ]
  },
  {
   "cell_type": "markdown",
   "metadata": {},
   "source": [
    "## Do the same providers provide both inpatient and outpatient services? Summarize your finding.\n",
    "\n",
    "- There are 1694 providers that offer both services\n",
    "- There are 398 providers that offer inpatient services only\n",
    "- There are 3318 providers thar offer outpatient services only"
   ]
  },
  {
   "cell_type": "code",
   "execution_count": 30,
   "metadata": {},
   "outputs": [],
   "source": [
    "a = full_data.groupby(['Provider', 'patientType'])['BeneID'].count().reset_index(name='count').\\\n",
    "drop('count', axis=1)\n",
    "\n",
    "a_list= list(zip(a.Provider, a.patientType))\n",
    "\n",
    "providerDict= {}\n",
    "\n",
    "for ele in a_list:\n",
    "    if ele[0] not in providerDict:\n",
    "        providerDict[ele[0]]= ele[1]    \n",
    "    else:\n",
    "        providerDict[ele[0]] = 'both'\n",
    "        \n",
    "\n",
    "providerService = pd.DataFrame(providerDict.keys(), providerDict.values()).reset_index().\\\n",
    "rename(columns={'index':'ServiceType', 0:'Provider'})\n"
   ]
  },
  {
   "cell_type": "code",
   "execution_count": 16,
   "metadata": {},
   "outputs": [
    {
     "data": {
      "text/plain": [
       "ServiceType\n",
       "both          1694\n",
       "inpatient      398\n",
       "outpatient    3318\n",
       "Name: Provider, dtype: int64"
      ]
     },
     "execution_count": 16,
     "metadata": {},
     "output_type": "execute_result"
    }
   ],
   "source": [
    "serviceFraud = pd.merge(train_potentialfraud, providerService, on='Provider')\n",
    "\n",
    "serviceFraud.groupby('ServiceType')['Provider'].count()"
   ]
  },
  {
   "cell_type": "code",
   "execution_count": 18,
   "metadata": {},
   "outputs": [
    {
     "data": {
      "text/plain": [
       "<seaborn.axisgrid.FacetGrid at 0x287bbc92208>"
      ]
     },
     "execution_count": 18,
     "metadata": {},
     "output_type": "execute_result"
    },
    {
     "data": {
      "image/png": "[encoded data removed]",
      "text/plain": [
       "<Figure size 432x216 with 2 Axes>"
      ]
     },
     "metadata": {
      "needs_background": "light"
     },
     "output_type": "display_data"
    }
   ],
   "source": [
    "serviceFraud = pd.merge(train_potentialfraud, providerService, on='Provider')\n",
    "\n",
    "service = serviceFraud.groupby(['ServiceType', 'PotentialFraud'])['Provider'].count().reset_index(name='count')\n",
    "\n",
    "\n",
    "g = sns.FacetGrid(service, col=\"PotentialFraud\")\n",
    "g.map_dataframe(sns.barplot, x=\"ServiceType\", y=\"count\")\n",
    "g.set_axis_labels(\"type of service\", \"number of providers\")\n"
   ]
  },
  {
   "cell_type": "markdown",
   "metadata": {},
   "source": [
    "## Feature engineering\n",
    "- add type of service"
   ]
  },
  {
   "cell_type": "code",
   "execution_count": 32,
   "metadata": {},
   "outputs": [
    {
     "data": {
      "text/html": [
       "<div>\n",
       "<style scoped>\n",
       "    .dataframe tbody tr th:only-of-type {\n",
       "        vertical-align: middle;\n",
       "    }\n",
       "\n",
       "    .dataframe tbody tr th {\n",
       "        vertical-align: top;\n",
       "    }\n",
       "\n",
       "    .dataframe thead th {\n",
       "        text-align: right;\n",
       "    }\n",
       "</style>\n",
       "<table border=\"1\" class=\"dataframe\">\n",
       "  <thead>\n",
       "    <tr style=\"text-align: right;\">\n",
       "      <th></th>\n",
       "      <th>Provider</th>\n",
       "      <th>PotentialFraud</th>\n",
       "      <th>NumOfDoctors</th>\n",
       "      <th>NumOfPatients</th>\n",
       "      <th>ServiceType</th>\n",
       "    </tr>\n",
       "  </thead>\n",
       "  <tbody>\n",
       "    <tr>\n",
       "      <th>1395</th>\n",
       "      <td>PRV52732</td>\n",
       "      <td>No</td>\n",
       "      <td>1</td>\n",
       "      <td>6</td>\n",
       "      <td>outpatient</td>\n",
       "    </tr>\n",
       "    <tr>\n",
       "      <th>1506</th>\n",
       "      <td>PRV52865</td>\n",
       "      <td>No</td>\n",
       "      <td>23</td>\n",
       "      <td>57</td>\n",
       "      <td>both</td>\n",
       "    </tr>\n",
       "  </tbody>\n",
       "</table>\n",
       "</div>"
      ],
      "text/plain": [
       "      Provider PotentialFraud  NumOfDoctors  NumOfPatients ServiceType\n",
       "1395  PRV52732             No             1              6  outpatient\n",
       "1506  PRV52865             No            23             57        both"
      ]
     },
     "execution_count": 32,
     "metadata": {},
     "output_type": "execute_result"
    }
   ],
   "source": [
    "trainProvider3 = pd.merge(trainProvider2, providerService, on='Provider')\n",
    "trainProvider3.sample(2)"
   ]
  }
 ],
 "metadata": {
  "kernelspec": {
   "display_name": "Python 3",
   "language": "python",
   "name": "python3"
  },
  "language_info": {
   "codemirror_mode": {
    "name": "ipython",
    "version": 3
   },
   "file_extension": ".py",
   "mimetype": "text/x-python",
   "name": "python",
   "nbconvert_exporter": "python",
   "pygments_lexer": "ipython3",
   "version": "3.7.6"
  }
 },
 "nbformat": 4,
 "nbformat_minor": 4
}
