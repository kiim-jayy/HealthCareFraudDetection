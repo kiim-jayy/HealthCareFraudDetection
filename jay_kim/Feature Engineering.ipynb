{
 "cells": [
  {
   "cell_type": "markdown",
   "metadata": {},
   "source": [
    "### Adding the Count of Patients with Different Number of Chronic Conditions "
   ]
  },
  {
   "cell_type": "code",
   "execution_count": null,
   "metadata": {},
   "outputs": [],
   "source": [
    "full_data['NumChronicCond'] = full_data['ChronicCond_Alzheimer'] + full_data['ChronicCond_Heartfailure'] + full_data['ChronicCond_KidneyDisease'] + full_data['ChronicCond_Cancer'] + full_data['ChronicCond_ObstrPulmonary'] + full_data['ChronicCond_Depression'] + full_data ['ChronicCond_Diabetes'] + full_data['ChronicCond_IschemicHeart'] + full_data['ChronicCond_Osteoporasis'] + full_data['ChronicCond_rheumatoidarthritis'] + full_data['ChronicCond_stroke'] + full_data['RenalDiseaseIndicator']\n"
   ]
  },
  {
   "cell_type": "code",
   "execution_count": null,
   "metadata": {},
   "outputs": [],
   "source": [
    "chronicConditions = full_data.groupby(['Provider', 'BeneID'])['NumChronicCond'].value_counts().reset_index(name = 'NumChronicCondCount')\n",
    "chronicConditions['NumChronicCondCount'] = chronicConditions['NumChronicCondCount'].apply(lambda x: 1 if x >= 1 else 0)\n",
    "chronicConditions = chronicConditions.groupby('Provider')['NumChronicCond'].value_counts().reset_index(name = 'NumChronicCondCount')\n"
   ]
  },
  {
   "cell_type": "code",
   "execution_count": null,
   "metadata": {},
   "outputs": [],
   "source": [
    "chronicConditions = chronicConditions.groupby(['Provider', 'NumChronicCond']).NumChronicCondCount.sum()\n",
    "chronicConditions = chronicConditions.unstack(level='NumChronicCond').reset_index()\n",
    "chronicConditions = chronicConditions.rename({0 : 'ChronicCond0', \n",
    "                                              1 : 'ChronicCond1', \n",
    "                                              2 : 'ChronicCond2',\n",
    "                                              3 : 'ChronicCond3',\n",
    "                                              4 : 'ChronicCond4',\n",
    "                                              5 : 'ChronicCond5',\n",
    "                                              6 : 'ChronicCond6',\n",
    "                                              7 : 'ChronicCond7',\n",
    "                                              8 : 'ChronicCond8',\n",
    "                                              9 : 'ChronicCond9',\n",
    "                                              10 : 'ChronicCond10',\n",
    "                                              11 : 'ChronicCond11',\n",
    "                                              12 : 'ChronicCond12'}, axis=1)\n",
    "chronicConditions.fillna(0, inplace=True)\n",
    "chronicConditions\n"
   ]
  },
  {
   "cell_type": "code",
   "execution_count": null,
   "metadata": {},
   "outputs": [],
   "source": [
    "trainProvider = pd.merge(trainProvider, chronicConditions, on = 'Provider', how = 'left')\n",
    "trainProvider.sample(2)"
   ]
  },
  {
   "cell_type": "markdown",
   "metadata": {},
   "source": [
    "### Adding the Counts of Each Gender of Patients per Provider"
   ]
  },
  {
   "cell_type": "code",
   "execution_count": null,
   "metadata": {},
   "outputs": [],
   "source": [
    "gender = full_data.groupby(['Provider', 'BeneID', 'Gender'])['Gender'].count().reset_index(name = 'GenderCount')\n",
    "gender['GenderCount'] = gender['GenderCount'].apply(lambda x: 1 if x >= 1 else 0)\n",
    "gender = gender.groupby('Provider')['Gender'].value_counts().reset_index(name = 'GenderCount')\n",
    "\n",
    "gender"
   ]
  },
  {
   "cell_type": "code",
   "execution_count": null,
   "metadata": {},
   "outputs": [],
   "source": [
    "gender['Gender1'] = 0\n",
    "gender['Gender2'] = 0\n",
    "\n",
    "for index in gender.index:\n",
    "    if gender['Gender'][index] == 1:\n",
    "        gender['Gender1'][index] += gender['GenderCount'][index]\n",
    "    if gender['Gender'][index] == 2:\n",
    "        gender['Gender2'][index] += gender['GenderCount'][index]"
   ]
  },
  {
   "cell_type": "code",
   "execution_count": null,
   "metadata": {},
   "outputs": [],
   "source": [
    "gender = gender.drop('Gender', axis = 1)\n",
    "gender = gender.drop('GenderCount', axis = 1)\n",
    "gender"
   ]
  },
  {
   "cell_type": "code",
   "execution_count": null,
   "metadata": {},
   "outputs": [],
   "source": [
    "genderCount = gender.groupby('Provider').agg({'Gender1' : 'sum', 'Gender2' : 'sum'}).reset_index()\n",
    "\n",
    "trainProvider = pd.merge(trainProvider, genderCount, on = 'Provider', how = 'left')\n",
    "trainProvider.sample(2)"
   ]
  },
  {
   "cell_type": "markdown",
   "metadata": {},
   "source": [
    "### Adding the Counts of Each Race of Patients per Provider"
   ]
  },
  {
   "cell_type": "code",
   "execution_count": null,
   "metadata": {},
   "outputs": [],
   "source": [
    "race = full_data.groupby(['Provider', 'BeneID', 'Race'])['Race'].count().reset_index(name = 'RaceCount')\n",
    "race['RaceCount'] = race['RaceCount'].apply(lambda x: 1 if x >= 1 else 0)\n",
    "race = race.groupby('Provider')['Race'].value_counts().reset_index(name = 'RaceCount')\n",
    "\n",
    "race"
   ]
  },
  {
   "cell_type": "code",
   "execution_count": null,
   "metadata": {},
   "outputs": [],
   "source": [
    "race['Race1'] = 0\n",
    "race['Race2'] = 0\n",
    "race['Race3'] = 0\n",
    "race['Race5'] = 0\n",
    "\n",
    "for index in race.index:\n",
    "    if race['Race'][index] == 1:\n",
    "        race['Race1'][index] += race['RaceCount'][index]\n",
    "    if race['Race'][index] == 2:\n",
    "        race['Race2'][index] += race['RaceCount'][index]\n",
    "    if race['Race'][index] == 3:\n",
    "        race['Race3'][index] += race['RaceCount'][index]\n",
    "    if race['Race'][index] == 5:\n",
    "        race['Race5'][index] += race['RaceCount'][index]\n",
    "        "
   ]
  },
  {
   "cell_type": "code",
   "execution_count": null,
   "metadata": {},
   "outputs": [],
   "source": [
    "race = race.drop('Race', axis = 1)\n",
    "race = race.drop('RaceCount', axis = 1)\n",
    "race"
   ]
  },
  {
   "cell_type": "code",
   "execution_count": null,
   "metadata": {},
   "outputs": [],
   "source": [
    "raceCount = race.groupby('Provider').agg({'Race1' : 'sum', 'Race2' : 'sum', 'Race3' : 'sum', 'Race5' : 'sum'}).reset_index()\n",
    "\n",
    "trainProvider = pd.merge(trainProvider, raceCount, on = 'Provider', how = 'left')\n",
    "trainProvider.sample(2)"
   ]
  }
 ],
 "metadata": {
  "kernelspec": {
   "display_name": "Python 3",
   "language": "python",
   "name": "python3"
  },
  "language_info": {
   "codemirror_mode": {
    "name": "ipython",
    "version": 3
   },
   "file_extension": ".py",
   "mimetype": "text/x-python",
   "name": "python",
   "nbconvert_exporter": "python",
   "pygments_lexer": "ipython3",
   "version": "3.7.6"
  }
 },
 "nbformat": 4,
 "nbformat_minor": 4
}
