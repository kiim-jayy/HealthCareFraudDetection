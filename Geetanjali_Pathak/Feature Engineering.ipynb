{
 "cells": [
  {
   "cell_type": "code",
   "execution_count": 1,
   "metadata": {},
   "outputs": [],
   "source": [
    "import pandas as pd\n",
    "import numpy as np\n",
    "%matplotlib inline\n",
    "import seaborn as sns\n",
    "import datetime as dt\n",
    "from matplotlib import pyplot as plt\n",
    "pd.set_option('display.max_columns', None)"
   ]
  },
  {
   "cell_type": "code",
   "execution_count": 3,
   "metadata": {},
   "outputs": [],
   "source": [
    "# Training data sets\n",
    "benef = pd.read_csv('./data/Train_Beneficiary.csv')\n",
    "inpat = pd.read_csv('./data/Train_Inpatient.csv')\n",
    "outpat = pd.read_csv('./data/Train_Outpatient.csv')\n",
    "fraud = pd.read_csv('./data/Train-Potential Fraud.csv')"
   ]
  },
  {
   "cell_type": "code",
   "execution_count": 5,
   "metadata": {},
   "outputs": [],
   "source": [
    "#Create columns for inpatient and outpatient data.\n",
    "inpat['patientType'] = np.repeat('inpatient', len(inpat))\n",
    "outpat['patientType'] = np.repeat('outpatient', len(outpat))"
   ]
  },
  {
   "cell_type": "code",
   "execution_count": 7,
   "metadata": {},
   "outputs": [
    {
     "name": "stderr",
     "output_type": "stream",
     "text": [
      "/opt/anaconda3/lib/python3.7/site-packages/ipykernel_launcher.py:2: FutureWarning: Sorting because non-concatenation axis is not aligned. A future version\n",
      "of pandas will change to not sort by default.\n",
      "\n",
      "To accept the future behavior, pass 'sort=False'.\n",
      "\n",
      "To retain the current behavior and silence the warning, pass 'sort=True'.\n",
      "\n",
      "  \n"
     ]
    }
   ],
   "source": [
    "#Combining the inpatient and outpatient data\n",
    "patient = pd.concat([inpat, outpat], axis=0)"
   ]
  },
  {
   "cell_type": "code",
   "execution_count": 12,
   "metadata": {},
   "outputs": [],
   "source": [
    "# Combining patient dataset with beneficiary dataset \n",
    "full_data =pd.merge(patient, benef, on='BeneID', how='left')"
   ]
  },
  {
   "cell_type": "code",
   "execution_count": 21,
   "metadata": {},
   "outputs": [],
   "source": [
    "full_data1 = full_data.copy()"
   ]
  },
  {
   "cell_type": "code",
   "execution_count": 22,
   "metadata": {},
   "outputs": [],
   "source": [
    "# Creating DaysAdmitted Feature by substracting claim start date from claim end date \n",
    "full_data1['ClaimStartDt'] = pd.to_datetime(full_data1['ClaimStartDt'])\n",
    "full_data1['ClaimEndDt'] = pd.to_datetime(full_data1['ClaimEndDt'])\n",
    "full_data1['DaysAdmitted'] = full_data1['ClaimEndDt'] - full_data1['ClaimStartDt']"
   ]
  },
  {
   "cell_type": "code",
   "execution_count": 25,
   "metadata": {},
   "outputs": [],
   "source": [
    "# Chaging DaysAdmitted into integer object \n",
    "full_data1['DaysAdmitted'] = full_data1['DaysAdmitted'].astype(str)\n",
    "full_data1['DaysAdmitted'] = full_data1['DaysAdmitted'].str.replace('days', ' ')\n",
    "\n",
    "full_data1['DaysAdmitted'] = full_data1['DaysAdmitted']. \\\n",
    "str.replace('00:00:00.000000000', '')\n",
    "\n",
    "full_data1['DaysAdmitted'] = full_data1['DaysAdmitted'].astype(int)\n",
    "\n",
    "full_data1['DaysAdmitted'] = full_data1['DaysAdmitted'] + 1"
   ]
  },
  {
   "cell_type": "markdown",
   "metadata": {},
   "source": [
    "#### First Feature Engineered: DaysAdmittedMean"
   ]
  },
  {
   "cell_type": "code",
   "execution_count": 30,
   "metadata": {},
   "outputs": [],
   "source": [
    "# Creating a separate dataframe of DaysAdmittedMean by Provider\n",
    "days = pd.DataFrame(full_data1.groupby('Provider')['DaysAdmitted'].mean())\n",
    "days = days.reset_index()"
   ]
  },
  {
   "cell_type": "code",
   "execution_count": 35,
   "metadata": {},
   "outputs": [],
   "source": [
    "# Merging Potential Fraud dataset with DaysAdmittedMean dataset \n",
    "fraud1 = fraud.copy()\n",
    "fraud2 = pd.merge(fraud1, days, on='Provider')"
   ]
  },
  {
   "cell_type": "markdown",
   "metadata": {},
   "source": [
    "#### 2nd Feature: DeductibleAmountPaid Mean"
   ]
  },
  {
   "cell_type": "code",
   "execution_count": 49,
   "metadata": {},
   "outputs": [],
   "source": [
    "DeductibleMean = pd.DataFrame(full_data1.groupby('Provider') \\\n",
    "                              ['DeductibleAmtPaid'].mean())\n",
    "\n",
    "fraud2 = pd.merge(fraud2, DeductibleMean, on='Provider')"
   ]
  },
  {
   "cell_type": "code",
   "execution_count": 93,
   "metadata": {},
   "outputs": [
    {
     "data": {
      "text/plain": [
       "PotentialFraud\n",
       "No     135.498511\n",
       "Yes    350.839395\n",
       "Name: DeductibleAmtPaid, dtype: float64"
      ]
     },
     "execution_count": 93,
     "metadata": {},
     "output_type": "execute_result"
    }
   ],
   "source": [
    "fraud2.groupby('PotentialFraud')['DeductibleAmtPaid'].mean()"
   ]
  },
  {
   "cell_type": "markdown",
   "metadata": {},
   "source": [
    "#### 3rd Feature: Insurance Claim Amount Reimbursed Mean"
   ]
  },
  {
   "cell_type": "code",
   "execution_count": 53,
   "metadata": {},
   "outputs": [],
   "source": [
    "InscReimbursed = pd.DataFrame(full_data1.groupby('Provider') \\\n",
    "                              ['InscClaimAmtReimbursed'].mean())\n",
    "\n",
    "fraud2 = pd.merge(fraud2, InscReimbursed, on='Provider')"
   ]
  },
  {
   "cell_type": "code",
   "execution_count": 56,
   "metadata": {},
   "outputs": [
    {
     "data": {
      "text/plain": [
       "PotentialFraud\n",
       "No     1523.780804\n",
       "Yes    3842.795104\n",
       "Name: InscClaimAmtReimbursed, dtype: float64"
      ]
     },
     "execution_count": 56,
     "metadata": {},
     "output_type": "execute_result"
    }
   ],
   "source": [
    "fraud2.groupby('PotentialFraud')['InscClaimAmtReimbursed'].mean()"
   ]
  },
  {
   "cell_type": "markdown",
   "metadata": {},
   "source": [
    "#### 4th Feature: Insurance Covered Percentage Mean"
   ]
  },
  {
   "cell_type": "code",
   "execution_count": 57,
   "metadata": {},
   "outputs": [],
   "source": [
    "full_data1['InscCoveredPercent'] = full_data1['InscClaimAmtReimbursed'] \\\n",
    "/(full_data1['InscClaimAmtReimbursed'] + full_data1['DeductibleAmtPaid'])\n",
    "\n",
    "InscCoveredPercent = pd.DataFrame(full_data1.groupby('Provider') \\\n",
    "                                  ['InscCoveredPercent'].mean())\n",
    "\n",
    "fraud2 = pd.merge(fraud2, InscCoveredPercent, on='Provider')"
   ]
  },
  {
   "cell_type": "code",
   "execution_count": 62,
   "metadata": {},
   "outputs": [
    {
     "data": {
      "text/plain": [
       "PotentialFraud\n",
       "No     0.962077\n",
       "Yes    0.934837\n",
       "Name: InscCoveredPercent, dtype: float64"
      ]
     },
     "execution_count": 62,
     "metadata": {},
     "output_type": "execute_result"
    }
   ],
   "source": [
    "fraud2.groupby('PotentialFraud')['InscCoveredPercent'].mean()"
   ]
  },
  {
   "cell_type": "markdown",
   "metadata": {},
   "source": [
    "#### 5th Feature: Total Claim Amount Mean"
   ]
  },
  {
   "cell_type": "code",
   "execution_count": 63,
   "metadata": {},
   "outputs": [],
   "source": [
    "full_data1['TotalClaimAmount'] = full_data1['InscClaimAmtReimbursed']\\\n",
    "+ full_data1['DeductibleAmtPaid']\n",
    "\n",
    "TotalClaimAmount = pd.DataFrame(full_data1.groupby('Provider') \\\n",
    "                                ['TotalClaimAmount'].mean())\n",
    "\n",
    "fraud2 = pd.merge(fraud2, TotalClaimAmount, on='Provider')"
   ]
  },
  {
   "cell_type": "code",
   "execution_count": 66,
   "metadata": {},
   "outputs": [
    {
     "data": {
      "text/plain": [
       "PotentialFraud\n",
       "No     1645.778736\n",
       "Yes    4142.438122\n",
       "Name: TotalClaimAmount, dtype: float64"
      ]
     },
     "execution_count": 66,
     "metadata": {},
     "output_type": "execute_result"
    }
   ],
   "source": [
    "fraud2.groupby('PotentialFraud')['TotalClaimAmount'].mean()"
   ]
  },
  {
   "cell_type": "markdown",
   "metadata": {},
   "source": [
    "#### 6th Feature: Daily Total Charge"
   ]
  },
  {
   "cell_type": "code",
   "execution_count": 69,
   "metadata": {},
   "outputs": [],
   "source": [
    "full_data1['DailyTotalCharge'] = full_data1['TotalClaimAmount'] \\\n",
    "/full_data1['DaysAdmitted']\n",
    "\n",
    "DailyTotalCharge = pd.DataFrame(full_data1.groupby('Provider') \\\n",
    "                                ['DailyTotalCharge'].mean())\n",
    "\n",
    "fraud2 = pd.merge(fraud2, DailyTotalCharge, on='Provider')"
   ]
  },
  {
   "cell_type": "code",
   "execution_count": 72,
   "metadata": {},
   "outputs": [
    {
     "data": {
      "text/plain": [
       "PotentialFraud\n",
       "No     471.273799\n",
       "Yes    952.785225\n",
       "Name: DailyTotalCharge, dtype: float64"
      ]
     },
     "execution_count": 72,
     "metadata": {},
     "output_type": "execute_result"
    }
   ],
   "source": [
    "fraud2.groupby('PotentialFraud')['DailyTotalCharge'].mean()"
   ]
  },
  {
   "cell_type": "markdown",
   "metadata": {},
   "source": [
    "#### Features 7-10: Annual Reimbursement and Deductible Paid Amounts for Inpatient and Outpatient"
   ]
  },
  {
   "cell_type": "code",
   "execution_count": 75,
   "metadata": {},
   "outputs": [],
   "source": [
    "IPAnnReimbMean = pd.DataFrame(full_data1.groupby('Provider') \\\n",
    "                              ['IPAnnualReimbursementAmt'].mean())\n",
    "\n",
    "IPAnnDeductMean = pd.DataFrame(full_data1.groupby('Provider') \\\n",
    "                               ['IPAnnualDeductibleAmt'].mean())\n",
    "\n",
    "OPAnnReimbMean = pd.DataFrame(full_data1.groupby('Provider') \\\n",
    "                              ['OPAnnualReimbursementAmt'].mean())\n",
    "\n",
    "OPAnnDeductMean = pd.DataFrame(full_data1.groupby('Provider') \\\n",
    "                               ['OPAnnualDeductibleAmt'].mean())"
   ]
  },
  {
   "cell_type": "code",
   "execution_count": 77,
   "metadata": {},
   "outputs": [],
   "source": [
    "fraud2 = pd.merge(fraud2, IPAnnReimbMean, on='Provider')\n",
    "fraud2 = pd.merge(fraud2, IPAnnDeductMean, on='Provider')\n",
    "fraud2 = pd.merge(fraud2, OPAnnReimbMean, on='Provider')\n",
    "fraud2 = pd.merge(fraud2, OPAnnDeductMean, on='Provider')"
   ]
  },
  {
   "cell_type": "code",
   "execution_count": 79,
   "metadata": {},
   "outputs": [
    {
     "data": {
      "text/plain": [
       "PotentialFraud\n",
       "No     5868.975601\n",
       "Yes    9052.076164\n",
       "Name: IPAnnualReimbursementAmt, dtype: float64"
      ]
     },
     "execution_count": 79,
     "metadata": {},
     "output_type": "execute_result"
    }
   ],
   "source": [
    "fraud2.groupby('PotentialFraud')['IPAnnualReimbursementAmt'].mean()"
   ]
  },
  {
   "cell_type": "code",
   "execution_count": 80,
   "metadata": {},
   "outputs": [
    {
     "data": {
      "text/plain": [
       "PotentialFraud\n",
       "No     638.107001\n",
       "Yes    946.817676\n",
       "Name: IPAnnualDeductibleAmt, dtype: float64"
      ]
     },
     "execution_count": 80,
     "metadata": {},
     "output_type": "execute_result"
    }
   ],
   "source": [
    "fraud2.groupby('PotentialFraud')['IPAnnualDeductibleAmt'].mean()"
   ]
  },
  {
   "cell_type": "code",
   "execution_count": 81,
   "metadata": {},
   "outputs": [
    {
     "data": {
      "text/plain": [
       "PotentialFraud\n",
       "No     2191.723203\n",
       "Yes    2273.113210\n",
       "Name: OPAnnualReimbursementAmt, dtype: float64"
      ]
     },
     "execution_count": 81,
     "metadata": {},
     "output_type": "execute_result"
    }
   ],
   "source": [
    "fraud2.groupby('PotentialFraud')['OPAnnualReimbursementAmt'].mean()"
   ]
  },
  {
   "cell_type": "code",
   "execution_count": 82,
   "metadata": {},
   "outputs": [
    {
     "data": {
      "text/plain": [
       "PotentialFraud\n",
       "No     628.840769\n",
       "Yes    631.565539\n",
       "Name: OPAnnualDeductibleAmt, dtype: float64"
      ]
     },
     "execution_count": 82,
     "metadata": {},
     "output_type": "execute_result"
    }
   ],
   "source": [
    "fraud2.groupby('PotentialFraud')['OPAnnualDeductibleAmt'].mean()"
   ]
  },
  {
   "cell_type": "markdown",
   "metadata": {},
   "source": [
    "#### Feature 11: Total Annual Claim Amount Mean"
   ]
  },
  {
   "cell_type": "code",
   "execution_count": 84,
   "metadata": {},
   "outputs": [],
   "source": [
    "full_data1['TotalAnnClaimAmt'] = full_data1['IPAnnualReimbursementAmt']+ \\\n",
    "full_data1['IPAnnualDeductibleAmt']+full_data1['OPAnnualReimbursementAmt'] \\\n",
    "+ full_data1['OPAnnualDeductibleAmt']\n",
    "\n",
    "TotalAnnClaimAmt = pd.DataFrame(full_data1.groupby('Provider') \\\n",
    "                                ['TotalAnnClaimAmt'].mean())\n",
    "\n",
    "fraud2 = pd.merge(fraud2, TotalAnnClaimAmt, on='Provider')"
   ]
  },
  {
   "cell_type": "code",
   "execution_count": 87,
   "metadata": {},
   "outputs": [
    {
     "data": {
      "text/plain": [
       "PotentialFraud\n",
       "No      9327.646575\n",
       "Yes    12903.572589\n",
       "Name: TotalAnnClaimAmt, dtype: float64"
      ]
     },
     "execution_count": 87,
     "metadata": {},
     "output_type": "execute_result"
    }
   ],
   "source": [
    "fraud2.groupby('PotentialFraud')['TotalAnnClaimAmt'].mean()"
   ]
  },
  {
   "cell_type": "code",
   "execution_count": 88,
   "metadata": {},
   "outputs": [
    {
     "data": {
      "text/html": [
       "<div>\n",
       "<style scoped>\n",
       "    .dataframe tbody tr th:only-of-type {\n",
       "        vertical-align: middle;\n",
       "    }\n",
       "\n",
       "    .dataframe tbody tr th {\n",
       "        vertical-align: top;\n",
       "    }\n",
       "\n",
       "    .dataframe thead th {\n",
       "        text-align: right;\n",
       "    }\n",
       "</style>\n",
       "<table border=\"1\" class=\"dataframe\">\n",
       "  <thead>\n",
       "    <tr style=\"text-align: right;\">\n",
       "      <th></th>\n",
       "      <th>Provider</th>\n",
       "      <th>PotentialFraud</th>\n",
       "      <th>DaysAdmitted</th>\n",
       "      <th>DeductibleAmtPaid</th>\n",
       "      <th>InscClaimAmtReimbursed</th>\n",
       "      <th>InscCoveredPercent</th>\n",
       "      <th>TotalClaimAmount</th>\n",
       "      <th>DailyTotalCharge</th>\n",
       "      <th>IPAnnualReimbursementAmt</th>\n",
       "      <th>IPAnnualDeductibleAmt</th>\n",
       "      <th>OPAnnualReimbursementAmt</th>\n",
       "      <th>OPAnnualDeductibleAmt</th>\n",
       "      <th>TotalAnnClaimAmt</th>\n",
       "    </tr>\n",
       "  </thead>\n",
       "  <tbody>\n",
       "    <tr>\n",
       "      <td>0</td>\n",
       "      <td>PRV51001</td>\n",
       "      <td>No</td>\n",
       "      <td>2.440000</td>\n",
       "      <td>213.600000</td>\n",
       "      <td>4185.600000</td>\n",
       "      <td>0.975656</td>\n",
       "      <td>4399.200000</td>\n",
       "      <td>1061.072000</td>\n",
       "      <td>17606.000000</td>\n",
       "      <td>897.120000</td>\n",
       "      <td>2615.200000</td>\n",
       "      <td>463.920000</td>\n",
       "      <td>21582.240000</td>\n",
       "    </tr>\n",
       "    <tr>\n",
       "      <td>1</td>\n",
       "      <td>PRV51003</td>\n",
       "      <td>Yes</td>\n",
       "      <td>4.674242</td>\n",
       "      <td>502.166667</td>\n",
       "      <td>4588.409091</td>\n",
       "      <td>0.912167</td>\n",
       "      <td>5090.575758</td>\n",
       "      <td>1298.615410</td>\n",
       "      <td>7568.181818</td>\n",
       "      <td>931.424242</td>\n",
       "      <td>2678.181818</td>\n",
       "      <td>737.121212</td>\n",
       "      <td>11914.909091</td>\n",
       "    </tr>\n",
       "    <tr>\n",
       "      <td>2</td>\n",
       "      <td>PRV51004</td>\n",
       "      <td>No</td>\n",
       "      <td>2.429530</td>\n",
       "      <td>2.080537</td>\n",
       "      <td>350.134228</td>\n",
       "      <td>0.978485</td>\n",
       "      <td>352.214765</td>\n",
       "      <td>250.363050</td>\n",
       "      <td>4351.879195</td>\n",
       "      <td>434.953020</td>\n",
       "      <td>2194.899329</td>\n",
       "      <td>622.751678</td>\n",
       "      <td>7604.483221</td>\n",
       "    </tr>\n",
       "    <tr>\n",
       "      <td>3</td>\n",
       "      <td>PRV51005</td>\n",
       "      <td>Yes</td>\n",
       "      <td>2.088412</td>\n",
       "      <td>3.175966</td>\n",
       "      <td>241.124464</td>\n",
       "      <td>0.980747</td>\n",
       "      <td>244.300429</td>\n",
       "      <td>196.533055</td>\n",
       "      <td>3623.991416</td>\n",
       "      <td>379.162232</td>\n",
       "      <td>2109.733906</td>\n",
       "      <td>636.328755</td>\n",
       "      <td>6749.216309</td>\n",
       "    </tr>\n",
       "    <tr>\n",
       "      <td>4</td>\n",
       "      <td>PRV51007</td>\n",
       "      <td>No</td>\n",
       "      <td>1.958333</td>\n",
       "      <td>45.333333</td>\n",
       "      <td>468.194444</td>\n",
       "      <td>0.985303</td>\n",
       "      <td>513.527778</td>\n",
       "      <td>243.681944</td>\n",
       "      <td>3050.000000</td>\n",
       "      <td>445.000000</td>\n",
       "      <td>1729.722222</td>\n",
       "      <td>469.722222</td>\n",
       "      <td>5694.444444</td>\n",
       "    </tr>\n",
       "    <tr>\n",
       "      <td>...</td>\n",
       "      <td>...</td>\n",
       "      <td>...</td>\n",
       "      <td>...</td>\n",
       "      <td>...</td>\n",
       "      <td>...</td>\n",
       "      <td>...</td>\n",
       "      <td>...</td>\n",
       "      <td>...</td>\n",
       "      <td>...</td>\n",
       "      <td>...</td>\n",
       "      <td>...</td>\n",
       "      <td>...</td>\n",
       "      <td>...</td>\n",
       "    </tr>\n",
       "    <tr>\n",
       "      <td>5405</td>\n",
       "      <td>PRV57759</td>\n",
       "      <td>No</td>\n",
       "      <td>3.142857</td>\n",
       "      <td>4.642857</td>\n",
       "      <td>380.000000</td>\n",
       "      <td>0.983401</td>\n",
       "      <td>384.642857</td>\n",
       "      <td>200.629252</td>\n",
       "      <td>3962.142857</td>\n",
       "      <td>457.714286</td>\n",
       "      <td>3241.785714</td>\n",
       "      <td>886.785714</td>\n",
       "      <td>8548.428571</td>\n",
       "    </tr>\n",
       "    <tr>\n",
       "      <td>5406</td>\n",
       "      <td>PRV57760</td>\n",
       "      <td>No</td>\n",
       "      <td>1.318182</td>\n",
       "      <td>0.000000</td>\n",
       "      <td>216.818182</td>\n",
       "      <td>1.000000</td>\n",
       "      <td>216.818182</td>\n",
       "      <td>216.022727</td>\n",
       "      <td>2785.454545</td>\n",
       "      <td>436.909091</td>\n",
       "      <td>1492.727273</td>\n",
       "      <td>805.454545</td>\n",
       "      <td>5520.545455</td>\n",
       "    </tr>\n",
       "    <tr>\n",
       "      <td>5407</td>\n",
       "      <td>PRV57761</td>\n",
       "      <td>No</td>\n",
       "      <td>2.390244</td>\n",
       "      <td>4.512195</td>\n",
       "      <td>225.243902</td>\n",
       "      <td>0.935979</td>\n",
       "      <td>229.756098</td>\n",
       "      <td>157.134674</td>\n",
       "      <td>7026.585366</td>\n",
       "      <td>586.097561</td>\n",
       "      <td>2928.414634</td>\n",
       "      <td>707.317073</td>\n",
       "      <td>11248.414634</td>\n",
       "    </tr>\n",
       "    <tr>\n",
       "      <td>5408</td>\n",
       "      <td>PRV57762</td>\n",
       "      <td>No</td>\n",
       "      <td>1.000000</td>\n",
       "      <td>0.000000</td>\n",
       "      <td>1900.000000</td>\n",
       "      <td>1.000000</td>\n",
       "      <td>1900.000000</td>\n",
       "      <td>1900.000000</td>\n",
       "      <td>15000.000000</td>\n",
       "      <td>1068.000000</td>\n",
       "      <td>2540.000000</td>\n",
       "      <td>400.000000</td>\n",
       "      <td>19008.000000</td>\n",
       "    </tr>\n",
       "    <tr>\n",
       "      <td>5409</td>\n",
       "      <td>PRV57763</td>\n",
       "      <td>No</td>\n",
       "      <td>2.720339</td>\n",
       "      <td>3.305085</td>\n",
       "      <td>369.576271</td>\n",
       "      <td>0.990215</td>\n",
       "      <td>372.881356</td>\n",
       "      <td>275.926678</td>\n",
       "      <td>3599.237288</td>\n",
       "      <td>602.949153</td>\n",
       "      <td>3108.898305</td>\n",
       "      <td>803.305085</td>\n",
       "      <td>8114.389831</td>\n",
       "    </tr>\n",
       "  </tbody>\n",
       "</table>\n",
       "<p>5410 rows × 13 columns</p>\n",
       "</div>"
      ],
      "text/plain": [
       "      Provider PotentialFraud  DaysAdmitted  DeductibleAmtPaid  \\\n",
       "0     PRV51001             No      2.440000         213.600000   \n",
       "1     PRV51003            Yes      4.674242         502.166667   \n",
       "2     PRV51004             No      2.429530           2.080537   \n",
       "3     PRV51005            Yes      2.088412           3.175966   \n",
       "4     PRV51007             No      1.958333          45.333333   \n",
       "...        ...            ...           ...                ...   \n",
       "5405  PRV57759             No      3.142857           4.642857   \n",
       "5406  PRV57760             No      1.318182           0.000000   \n",
       "5407  PRV57761             No      2.390244           4.512195   \n",
       "5408  PRV57762             No      1.000000           0.000000   \n",
       "5409  PRV57763             No      2.720339           3.305085   \n",
       "\n",
       "      InscClaimAmtReimbursed  InscCoveredPercent  TotalClaimAmount  \\\n",
       "0                4185.600000            0.975656       4399.200000   \n",
       "1                4588.409091            0.912167       5090.575758   \n",
       "2                 350.134228            0.978485        352.214765   \n",
       "3                 241.124464            0.980747        244.300429   \n",
       "4                 468.194444            0.985303        513.527778   \n",
       "...                      ...                 ...               ...   \n",
       "5405              380.000000            0.983401        384.642857   \n",
       "5406              216.818182            1.000000        216.818182   \n",
       "5407              225.243902            0.935979        229.756098   \n",
       "5408             1900.000000            1.000000       1900.000000   \n",
       "5409              369.576271            0.990215        372.881356   \n",
       "\n",
       "      DailyTotalCharge  IPAnnualReimbursementAmt  IPAnnualDeductibleAmt  \\\n",
       "0          1061.072000              17606.000000             897.120000   \n",
       "1          1298.615410               7568.181818             931.424242   \n",
       "2           250.363050               4351.879195             434.953020   \n",
       "3           196.533055               3623.991416             379.162232   \n",
       "4           243.681944               3050.000000             445.000000   \n",
       "...                ...                       ...                    ...   \n",
       "5405        200.629252               3962.142857             457.714286   \n",
       "5406        216.022727               2785.454545             436.909091   \n",
       "5407        157.134674               7026.585366             586.097561   \n",
       "5408       1900.000000              15000.000000            1068.000000   \n",
       "5409        275.926678               3599.237288             602.949153   \n",
       "\n",
       "      OPAnnualReimbursementAmt  OPAnnualDeductibleAmt  TotalAnnClaimAmt  \n",
       "0                  2615.200000             463.920000      21582.240000  \n",
       "1                  2678.181818             737.121212      11914.909091  \n",
       "2                  2194.899329             622.751678       7604.483221  \n",
       "3                  2109.733906             636.328755       6749.216309  \n",
       "4                  1729.722222             469.722222       5694.444444  \n",
       "...                        ...                    ...               ...  \n",
       "5405               3241.785714             886.785714       8548.428571  \n",
       "5406               1492.727273             805.454545       5520.545455  \n",
       "5407               2928.414634             707.317073      11248.414634  \n",
       "5408               2540.000000             400.000000      19008.000000  \n",
       "5409               3108.898305             803.305085       8114.389831  \n",
       "\n",
       "[5410 rows x 13 columns]"
      ]
     },
     "execution_count": 88,
     "metadata": {},
     "output_type": "execute_result"
    }
   ],
   "source": [
    "fraud2"
   ]
  },
  {
   "cell_type": "markdown",
   "metadata": {},
   "source": [
    "## Randy's Features"
   ]
  },
  {
   "cell_type": "markdown",
   "metadata": {},
   "source": [
    "#### Add number of doctors"
   ]
  },
  {
   "cell_type": "code",
   "execution_count": 94,
   "metadata": {},
   "outputs": [],
   "source": [
    "doctors= full_data1.groupby(['Provider', 'AttendingPhysician']) \\\n",
    "['AttendingPhysician'].count().reset_index(name='NumOfDoctors'). \\\n",
    "groupby('Provider')['NumOfDoctors'].count().reset_index()\n",
    "\n",
    "fraud2 = pd.merge(fraud2, doctors, on='Provider')"
   ]
  },
  {
   "cell_type": "markdown",
   "metadata": {},
   "source": [
    "#### Add number of patients"
   ]
  },
  {
   "cell_type": "code",
   "execution_count": 97,
   "metadata": {},
   "outputs": [],
   "source": [
    "patient= full_data.groupby(['Provider','BeneID'])['BeneID'].count(). \\\n",
    "reset_index(name='NumOfPatients').groupby('Provider')['NumOfPatients']. \\\n",
    "count().reset_index()\n",
    "\n",
    "fraud2 = pd.merge(fraud2, patient, on='Provider')"
   ]
  },
  {
   "cell_type": "markdown",
   "metadata": {},
   "source": [
    "#### Add Type of Service"
   ]
  },
  {
   "cell_type": "code",
   "execution_count": 101,
   "metadata": {},
   "outputs": [],
   "source": [
    "a = full_data1.groupby(['Provider', 'patientType'])['BeneID'].count().reset_index(name='count').\\\n",
    "drop('count', axis=1)\n",
    "\n",
    "a_list= list(zip(a.Provider, a.patientType))\n",
    "\n",
    "providerDict= {}\n",
    "\n",
    "for ele in a_list:\n",
    "    if ele[0] not in providerDict:\n",
    "        providerDict[ele[0]]= ele[1]    \n",
    "    else:\n",
    "        providerDict[ele[0]] = 'both'\n",
    "        \n",
    "\n",
    "providerService = pd.DataFrame(providerDict.keys(), providerDict.values()).reset_index().\\\n",
    "rename(columns={'index':'ServiceType', 0:'Provider'})"
   ]
  },
  {
   "cell_type": "code",
   "execution_count": 102,
   "metadata": {},
   "outputs": [],
   "source": [
    "fraud2 = pd.merge(fraud2, providerService, on='Provider')"
   ]
  },
  {
   "cell_type": "markdown",
   "metadata": {},
   "source": [
    "#### Add number of claims"
   ]
  },
  {
   "cell_type": "code",
   "execution_count": 103,
   "metadata": {},
   "outputs": [],
   "source": [
    "claims= full_data1.groupby(['Provider', 'ClaimID'])['ClaimID'].count().\\\n",
    "reset_index(name='NumOfClms').groupby('Provider')['NumOfClms'].count().reset_index()\n",
    "\n",
    "fraud2 = pd.merge(fraud2, claims, on='Provider')"
   ]
  },
  {
   "cell_type": "markdown",
   "metadata": {},
   "source": [
    "#### Add weekly claims "
   ]
  },
  {
   "cell_type": "code",
   "execution_count": 105,
   "metadata": {},
   "outputs": [],
   "source": [
    "full_data1['startClaimWeek']= full_data1['ClaimStartDt'].dt.week"
   ]
  },
  {
   "cell_type": "code",
   "execution_count": 106,
   "metadata": {},
   "outputs": [],
   "source": [
    "weeklyClaims= full_data1.groupby(['Provider','startClaimWeek', 'ClaimID'])['ClaimID'].count().reset_index(name='WeeklyClaims').\\\n",
    "groupby(['Provider', 'startClaimWeek'])['WeeklyClaims'].count().reset_index()"
   ]
  },
  {
   "cell_type": "code",
   "execution_count": 107,
   "metadata": {},
   "outputs": [],
   "source": [
    "fraud3 = fraud2.copy()"
   ]
  },
  {
   "cell_type": "code",
   "execution_count": 108,
   "metadata": {},
   "outputs": [],
   "source": [
    "fraud3= pd.merge(fraud3, weeklyClaims, on='Provider', how='left')"
   ]
  },
  {
   "cell_type": "markdown",
   "metadata": {},
   "source": [
    "#### Add average duration of treatment per claims"
   ]
  },
  {
   "cell_type": "markdown",
   "metadata": {},
   "source": [
    "#### Add monthly claims"
   ]
  },
  {
   "cell_type": "code",
   "execution_count": 118,
   "metadata": {},
   "outputs": [],
   "source": [
    "full_data1['startClaimMonth'] = full_data1['ClaimStartDt'].dt.month\n",
    "\n",
    "monthly = full_data1.groupby(['Provider','startClaimMonth', 'ClaimID'])['ClaimID'].count().reset_index(name='MonthlyClaims').\\\n",
    "groupby(['Provider', 'startClaimMonth'])['MonthlyClaims'].count().reset_index()"
   ]
  },
  {
   "cell_type": "code",
   "execution_count": 119,
   "metadata": {},
   "outputs": [],
   "source": [
    "fraud3 = pd.merge(fraud3, monthly, on='Provider', how='left')"
   ]
  },
  {
   "cell_type": "code",
   "execution_count": 121,
   "metadata": {},
   "outputs": [],
   "source": [
    "fraud3.to_pickle('newfeatures_df.pkl')"
   ]
  },
  {
   "cell_type": "code",
   "execution_count": null,
   "metadata": {},
   "outputs": [],
   "source": []
  }
 ],
 "metadata": {
  "kernelspec": {
   "display_name": "Python 3",
   "language": "python",
   "name": "python3"
  },
  "language_info": {
   "codemirror_mode": {
    "name": "ipython",
    "version": 3
   },
   "file_extension": ".py",
   "mimetype": "text/x-python",
   "name": "python",
   "nbconvert_exporter": "python",
   "pygments_lexer": "ipython3",
   "version": "3.7.4"
  }
 },
 "nbformat": 4,
 "nbformat_minor": 2
}
