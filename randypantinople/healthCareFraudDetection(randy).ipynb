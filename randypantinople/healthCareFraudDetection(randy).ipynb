{
 "cells": [
  {
   "cell_type": "code",
   "execution_count": 216,
   "metadata": {},
   "outputs": [],
   "source": [
    "import pandas as pd\n",
    "import numpy as np\n",
    "%matplotlib inline\n",
    "import matplotlib.pyplot as plt\n",
    "import seaborn as sns\n",
    "from sklearn.preprocessing import LabelEncoder\n"
   ]
  },
  {
   "cell_type": "markdown",
   "metadata": {},
   "source": [
    "## Importing Data Sets"
   ]
  },
  {
   "cell_type": "code",
   "execution_count": 181,
   "metadata": {},
   "outputs": [],
   "source": [
    "# Training data sets\n",
    "train_beneficiarydata = pd.read_csv(\"./healthCareData/train_beneficiarydata.csv\")\n",
    "train_inpatientdata = pd.read_csv(\"./healthCareData/train_inpatientdata.csv\")\n",
    "train_outpatientdata = pd.read_csv(\"./healthCareData/train_outpatientdata.csv\")\n",
    "train_potentialfraud = pd.read_csv(\"./healthCareData/train_potentialfraud.csv\")\n",
    "\n",
    "#Testing data sets\n",
    "test_beneficiarydata = pd.read_csv(\"./healthCareData/test_beneficiarydata.csv\")\n",
    "test_inpatientdata = pd.read_csv(\"./healthCareData/test_inpatientdata.csv\")\n",
    "test_outpatientdata = pd.read_csv(\"./healthCareData/test_outpatientdata.csv\")\n",
    "test_potentialfraud = pd.read_csv(\"./healthCareData/test_potentialfraud.csv\")\n"
   ]
  },
  {
   "cell_type": "code",
   "execution_count": 182,
   "metadata": {},
   "outputs": [],
   "source": [
    "pd.options.display.max_columns = None\n"
   ]
  },
  {
   "cell_type": "code",
   "execution_count": 183,
   "metadata": {},
   "outputs": [
    {
     "data": {
      "text/html": [
       "<div>\n",
       "<style scoped>\n",
       "    .dataframe tbody tr th:only-of-type {\n",
       "        vertical-align: middle;\n",
       "    }\n",
       "\n",
       "    .dataframe tbody tr th {\n",
       "        vertical-align: top;\n",
       "    }\n",
       "\n",
       "    .dataframe thead th {\n",
       "        text-align: right;\n",
       "    }\n",
       "</style>\n",
       "<table border=\"1\" class=\"dataframe\">\n",
       "  <thead>\n",
       "    <tr style=\"text-align: right;\">\n",
       "      <th></th>\n",
       "      <th>BeneID</th>\n",
       "      <th>ClaimID</th>\n",
       "      <th>ClaimStartDt</th>\n",
       "      <th>ClaimEndDt</th>\n",
       "      <th>Provider</th>\n",
       "      <th>InscClaimAmtReimbursed</th>\n",
       "      <th>AttendingPhysician</th>\n",
       "      <th>OperatingPhysician</th>\n",
       "      <th>OtherPhysician</th>\n",
       "      <th>AdmissionDt</th>\n",
       "      <th>ClmAdmitDiagnosisCode</th>\n",
       "      <th>DeductibleAmtPaid</th>\n",
       "      <th>DischargeDt</th>\n",
       "      <th>DiagnosisGroupCode</th>\n",
       "      <th>ClmDiagnosisCode_1</th>\n",
       "      <th>ClmDiagnosisCode_2</th>\n",
       "      <th>ClmDiagnosisCode_3</th>\n",
       "      <th>ClmDiagnosisCode_4</th>\n",
       "      <th>ClmDiagnosisCode_5</th>\n",
       "      <th>ClmDiagnosisCode_6</th>\n",
       "      <th>ClmDiagnosisCode_7</th>\n",
       "      <th>ClmDiagnosisCode_8</th>\n",
       "      <th>ClmDiagnosisCode_9</th>\n",
       "      <th>ClmDiagnosisCode_10</th>\n",
       "      <th>ClmProcedureCode_1</th>\n",
       "      <th>ClmProcedureCode_2</th>\n",
       "      <th>ClmProcedureCode_3</th>\n",
       "      <th>ClmProcedureCode_4</th>\n",
       "      <th>ClmProcedureCode_5</th>\n",
       "      <th>ClmProcedureCode_6</th>\n",
       "    </tr>\n",
       "  </thead>\n",
       "  <tbody>\n",
       "    <tr>\n",
       "      <th>17746</th>\n",
       "      <td>BENE76185</td>\n",
       "      <td>CLM79154</td>\n",
       "      <td>2009-12-10</td>\n",
       "      <td>2009-12-22</td>\n",
       "      <td>PRV51146</td>\n",
       "      <td>12000</td>\n",
       "      <td>PHY348010</td>\n",
       "      <td>PHY336688</td>\n",
       "      <td>NaN</td>\n",
       "      <td>2009-12-10</td>\n",
       "      <td>78701</td>\n",
       "      <td>1068.0</td>\n",
       "      <td>2009-12-22</td>\n",
       "      <td>342</td>\n",
       "      <td>56081</td>\n",
       "      <td>0413</td>\n",
       "      <td>7852</td>\n",
       "      <td>99813</td>\n",
       "      <td>V4582</td>\n",
       "      <td>55321</td>\n",
       "      <td>27651</td>\n",
       "      <td>27800</td>\n",
       "      <td>2638</td>\n",
       "      <td>E9352</td>\n",
       "      <td>5459.0</td>\n",
       "      <td>NaN</td>\n",
       "      <td>NaN</td>\n",
       "      <td>NaN</td>\n",
       "      <td>NaN</td>\n",
       "      <td>NaN</td>\n",
       "    </tr>\n",
       "    <tr>\n",
       "      <th>7784</th>\n",
       "      <td>BENE39472</td>\n",
       "      <td>CLM63519</td>\n",
       "      <td>2009-08-12</td>\n",
       "      <td>2009-08-13</td>\n",
       "      <td>PRV51434</td>\n",
       "      <td>7000</td>\n",
       "      <td>PHY376863</td>\n",
       "      <td>PHY359021</td>\n",
       "      <td>NaN</td>\n",
       "      <td>2009-08-12</td>\n",
       "      <td>515</td>\n",
       "      <td>1068.0</td>\n",
       "      <td>2009-08-13</td>\n",
       "      <td>167</td>\n",
       "      <td>51181</td>\n",
       "      <td>2720</td>\n",
       "      <td>7231</td>\n",
       "      <td>E8783</td>\n",
       "      <td>NaN</td>\n",
       "      <td>NaN</td>\n",
       "      <td>NaN</td>\n",
       "      <td>NaN</td>\n",
       "      <td>NaN</td>\n",
       "      <td>NaN</td>\n",
       "      <td>3420.0</td>\n",
       "      <td>NaN</td>\n",
       "      <td>NaN</td>\n",
       "      <td>NaN</td>\n",
       "      <td>NaN</td>\n",
       "      <td>NaN</td>\n",
       "    </tr>\n",
       "  </tbody>\n",
       "</table>\n",
       "</div>"
      ],
      "text/plain": [
       "          BeneID   ClaimID ClaimStartDt  ClaimEndDt  Provider  \\\n",
       "17746  BENE76185  CLM79154   2009-12-10  2009-12-22  PRV51146   \n",
       "7784   BENE39472  CLM63519   2009-08-12  2009-08-13  PRV51434   \n",
       "\n",
       "       InscClaimAmtReimbursed AttendingPhysician OperatingPhysician  \\\n",
       "17746                   12000          PHY348010          PHY336688   \n",
       "7784                     7000          PHY376863          PHY359021   \n",
       "\n",
       "      OtherPhysician AdmissionDt ClmAdmitDiagnosisCode  DeductibleAmtPaid  \\\n",
       "17746            NaN  2009-12-10                 78701             1068.0   \n",
       "7784             NaN  2009-08-12                   515             1068.0   \n",
       "\n",
       "      DischargeDt DiagnosisGroupCode ClmDiagnosisCode_1 ClmDiagnosisCode_2  \\\n",
       "17746  2009-12-22                342              56081               0413   \n",
       "7784   2009-08-13                167              51181               2720   \n",
       "\n",
       "      ClmDiagnosisCode_3 ClmDiagnosisCode_4 ClmDiagnosisCode_5  \\\n",
       "17746               7852              99813              V4582   \n",
       "7784                7231              E8783                NaN   \n",
       "\n",
       "      ClmDiagnosisCode_6 ClmDiagnosisCode_7 ClmDiagnosisCode_8  \\\n",
       "17746              55321              27651              27800   \n",
       "7784                 NaN                NaN                NaN   \n",
       "\n",
       "      ClmDiagnosisCode_9 ClmDiagnosisCode_10  ClmProcedureCode_1  \\\n",
       "17746               2638               E9352              5459.0   \n",
       "7784                 NaN                 NaN              3420.0   \n",
       "\n",
       "       ClmProcedureCode_2  ClmProcedureCode_3  ClmProcedureCode_4  \\\n",
       "17746                 NaN                 NaN                 NaN   \n",
       "7784                  NaN                 NaN                 NaN   \n",
       "\n",
       "       ClmProcedureCode_5  ClmProcedureCode_6  \n",
       "17746                 NaN                 NaN  \n",
       "7784                  NaN                 NaN  "
      ]
     },
     "execution_count": 183,
     "metadata": {},
     "output_type": "execute_result"
    }
   ],
   "source": [
    "train_inpatientdata.sample(2)"
   ]
  },
  {
   "cell_type": "code",
   "execution_count": 184,
   "metadata": {},
   "outputs": [
    {
     "data": {
      "text/html": [
       "<div>\n",
       "<style scoped>\n",
       "    .dataframe tbody tr th:only-of-type {\n",
       "        vertical-align: middle;\n",
       "    }\n",
       "\n",
       "    .dataframe tbody tr th {\n",
       "        vertical-align: top;\n",
       "    }\n",
       "\n",
       "    .dataframe thead th {\n",
       "        text-align: right;\n",
       "    }\n",
       "</style>\n",
       "<table border=\"1\" class=\"dataframe\">\n",
       "  <thead>\n",
       "    <tr style=\"text-align: right;\">\n",
       "      <th></th>\n",
       "      <th>BeneID</th>\n",
       "      <th>ClaimID</th>\n",
       "      <th>ClaimStartDt</th>\n",
       "      <th>ClaimEndDt</th>\n",
       "      <th>Provider</th>\n",
       "      <th>InscClaimAmtReimbursed</th>\n",
       "      <th>AttendingPhysician</th>\n",
       "      <th>OperatingPhysician</th>\n",
       "      <th>OtherPhysician</th>\n",
       "      <th>ClmDiagnosisCode_1</th>\n",
       "      <th>ClmDiagnosisCode_2</th>\n",
       "      <th>ClmDiagnosisCode_3</th>\n",
       "      <th>ClmDiagnosisCode_4</th>\n",
       "      <th>ClmDiagnosisCode_5</th>\n",
       "      <th>ClmDiagnosisCode_6</th>\n",
       "      <th>ClmDiagnosisCode_7</th>\n",
       "      <th>ClmDiagnosisCode_8</th>\n",
       "      <th>ClmDiagnosisCode_9</th>\n",
       "      <th>ClmDiagnosisCode_10</th>\n",
       "      <th>ClmProcedureCode_1</th>\n",
       "      <th>ClmProcedureCode_2</th>\n",
       "      <th>ClmProcedureCode_3</th>\n",
       "      <th>ClmProcedureCode_4</th>\n",
       "      <th>ClmProcedureCode_5</th>\n",
       "      <th>ClmProcedureCode_6</th>\n",
       "      <th>DeductibleAmtPaid</th>\n",
       "      <th>ClmAdmitDiagnosisCode</th>\n",
       "    </tr>\n",
       "  </thead>\n",
       "  <tbody>\n",
       "    <tr>\n",
       "      <th>71509</th>\n",
       "      <td>BENE31377</td>\n",
       "      <td>CLM240555</td>\n",
       "      <td>2009-03-11</td>\n",
       "      <td>2009-03-11</td>\n",
       "      <td>PRV51492</td>\n",
       "      <td>40</td>\n",
       "      <td>PHY399260</td>\n",
       "      <td>NaN</td>\n",
       "      <td>NaN</td>\n",
       "      <td>V6751</td>\n",
       "      <td>V5883</td>\n",
       "      <td>59970</td>\n",
       "      <td>NaN</td>\n",
       "      <td>NaN</td>\n",
       "      <td>NaN</td>\n",
       "      <td>NaN</td>\n",
       "      <td>NaN</td>\n",
       "      <td>NaN</td>\n",
       "      <td>NaN</td>\n",
       "      <td>NaN</td>\n",
       "      <td>NaN</td>\n",
       "      <td>NaN</td>\n",
       "      <td>NaN</td>\n",
       "      <td>NaN</td>\n",
       "      <td>NaN</td>\n",
       "      <td>100</td>\n",
       "      <td>NaN</td>\n",
       "    </tr>\n",
       "    <tr>\n",
       "      <th>221581</th>\n",
       "      <td>BENE74655</td>\n",
       "      <td>CLM431204</td>\n",
       "      <td>2009-06-23</td>\n",
       "      <td>2009-06-23</td>\n",
       "      <td>PRV57125</td>\n",
       "      <td>60</td>\n",
       "      <td>PHY413538</td>\n",
       "      <td>NaN</td>\n",
       "      <td>PHY313659</td>\n",
       "      <td>4011</td>\n",
       "      <td>V5869</td>\n",
       "      <td>75310</td>\n",
       "      <td>NaN</td>\n",
       "      <td>NaN</td>\n",
       "      <td>NaN</td>\n",
       "      <td>NaN</td>\n",
       "      <td>NaN</td>\n",
       "      <td>NaN</td>\n",
       "      <td>NaN</td>\n",
       "      <td>NaN</td>\n",
       "      <td>NaN</td>\n",
       "      <td>NaN</td>\n",
       "      <td>NaN</td>\n",
       "      <td>NaN</td>\n",
       "      <td>NaN</td>\n",
       "      <td>0</td>\n",
       "      <td>NaN</td>\n",
       "    </tr>\n",
       "  </tbody>\n",
       "</table>\n",
       "</div>"
      ],
      "text/plain": [
       "           BeneID    ClaimID ClaimStartDt  ClaimEndDt  Provider  \\\n",
       "71509   BENE31377  CLM240555   2009-03-11  2009-03-11  PRV51492   \n",
       "221581  BENE74655  CLM431204   2009-06-23  2009-06-23  PRV57125   \n",
       "\n",
       "        InscClaimAmtReimbursed AttendingPhysician OperatingPhysician  \\\n",
       "71509                       40          PHY399260                NaN   \n",
       "221581                      60          PHY413538                NaN   \n",
       "\n",
       "       OtherPhysician ClmDiagnosisCode_1 ClmDiagnosisCode_2  \\\n",
       "71509             NaN              V6751              V5883   \n",
       "221581      PHY313659               4011              V5869   \n",
       "\n",
       "       ClmDiagnosisCode_3 ClmDiagnosisCode_4 ClmDiagnosisCode_5  \\\n",
       "71509               59970                NaN                NaN   \n",
       "221581              75310                NaN                NaN   \n",
       "\n",
       "       ClmDiagnosisCode_6 ClmDiagnosisCode_7 ClmDiagnosisCode_8  \\\n",
       "71509                 NaN                NaN                NaN   \n",
       "221581                NaN                NaN                NaN   \n",
       "\n",
       "       ClmDiagnosisCode_9 ClmDiagnosisCode_10  ClmProcedureCode_1  \\\n",
       "71509                 NaN                 NaN                 NaN   \n",
       "221581                NaN                 NaN                 NaN   \n",
       "\n",
       "        ClmProcedureCode_2  ClmProcedureCode_3  ClmProcedureCode_4  \\\n",
       "71509                  NaN                 NaN                 NaN   \n",
       "221581                 NaN                 NaN                 NaN   \n",
       "\n",
       "        ClmProcedureCode_5  ClmProcedureCode_6  DeductibleAmtPaid  \\\n",
       "71509                  NaN                 NaN                100   \n",
       "221581                 NaN                 NaN                  0   \n",
       "\n",
       "       ClmAdmitDiagnosisCode  \n",
       "71509                    NaN  \n",
       "221581                   NaN  "
      ]
     },
     "execution_count": 184,
     "metadata": {},
     "output_type": "execute_result"
    }
   ],
   "source": [
    "train_outpatientdata.sample(2)"
   ]
  },
  {
   "cell_type": "markdown",
   "metadata": {},
   "source": [
    "## Warmup Question 1:\n",
    "\n",
    "- How many medical doctors are there in the train outpatient dataset?\n",
    "- How many medical doctors are there in the train inpatient dataset? Do they match with those from the outpatient record?\n",
    "- Do those inpatient patients show worse health conditions (in terms of chronic diseases) than typical outpatient patients, or do those who have more visits to the providers have worse health conditions? Provide an analysis on these issues.\n",
    "- How many distinct patients (BeneIDs) are there in the in/out-patient datasets?\n",
    "- Do doctors serve for different providers? Study the distribution of hospital counts/doctor? Is it possible to characterize those doctors who move around among different providers?\n",
    "- Do patients go to different hospitals? Study the distribution of hospital counts/patient? It is possible to characterize those patients who receive services from a lot of different hospitals?\n",
    "- Do the same providers provide both inpatient and outpatient services? Summarize your finding.\n",
    "- Do Some of the same patients receive both inpatient and outpatient services? Summarize your finding."
   ]
  },
  {
   "cell_type": "code",
   "execution_count": 418,
   "metadata": {},
   "outputs": [
    {
     "data": {
      "text/plain": [
       "(11605,)"
      ]
     },
     "execution_count": 418,
     "metadata": {},
     "output_type": "execute_result"
    }
   ],
   "source": [
    "#How many medical doctors are there in the train outpatient dataset?\n",
    "train_outpatientdata.AttendingPhysician.unique().shape  # there are 74,110 attending physicians\n",
    "\n",
    "#How many medical doctors are there in the train inpatient dataset? Do they match with those from the outpatient record?\n",
    "train_inpatientdata.AttendingPhysician.unique().shape  # there are 11,605 attending phsyicians. There are more providers on the outpatient data"
   ]
  },
  {
   "cell_type": "code",
   "execution_count": 8,
   "metadata": {},
   "outputs": [],
   "source": [
    "#Create columns for inpatient and outpatient data.\n",
    "train_inpatientdata['patientType'] = np.repeat('inpatient', len(train_inpatientdata))\n",
    "train_outpatientdata['patientType'] = np.repeat('outpatient', len(train_outpatientdata))\n",
    "\n"
   ]
  },
  {
   "cell_type": "code",
   "execution_count": 9,
   "metadata": {},
   "outputs": [
    {
     "data": {
      "text/plain": [
       "(138556,)"
      ]
     },
     "execution_count": 9,
     "metadata": {},
     "output_type": "execute_result"
    }
   ],
   "source": [
    "#Combining the inpatient and outpatient data\n",
    "patient = pd.concat([train_inpatientdata, train_outpatientdata], axis=0)\n",
    "patient.BeneID.unique().shape"
   ]
  },
  {
   "cell_type": "code",
   "execution_count": 348,
   "metadata": {},
   "outputs": [],
   "source": [
    "#Merge the patient data frame and \n",
    "full_data =pd.merge(patient, train_beneficiarydata, on='BeneID', how='left')"
   ]
  },
  {
   "cell_type": "code",
   "execution_count": 351,
   "metadata": {},
   "outputs": [
    {
     "data": {
      "text/plain": [
       "No     4904\n",
       "Yes     506\n",
       "Name: PotentialFraud, dtype: int64"
      ]
     },
     "execution_count": 351,
     "metadata": {},
     "output_type": "execute_result"
    }
   ],
   "source": [
    "train_potentialfraud.PotentialFraud.value_counts()"
   ]
  },
  {
   "cell_type": "code",
   "execution_count": 222,
   "metadata": {},
   "outputs": [
    {
     "data": {
      "text/plain": [
       "<matplotlib.axes._subplots.AxesSubplot at 0x1a36634e708>"
      ]
     },
     "execution_count": 222,
     "metadata": {},
     "output_type": "execute_result"
    },
    {
     "data": {
      "image/png": "[encoded data removed]",
      "text/plain": [
       "<Figure size 432x288 with 1 Axes>"
      ]
     },
     "metadata": {
      "needs_background": "light"
     },
     "output_type": "display_data"
    }
   ],
   "source": [
    "inpatient_chronic = full_data.loc[full_data.patientType=='inpatient'].filter(regex='Chronic')\n",
    "\n",
    "inpatient_chronic[inpatient_chronic==2].count().sort_values().plot(kind='barh')"
   ]
  },
  {
   "cell_type": "code",
   "execution_count": 285,
   "metadata": {},
   "outputs": [
    {
     "data": {
      "text/plain": [
       "<matplotlib.axes._subplots.AxesSubplot at 0x1a35ea7ae88>"
      ]
     },
     "execution_count": 285,
     "metadata": {},
     "output_type": "execute_result"
    },
    {
     "data": {
      "image/png": "[encoded data removed]",
      "text/plain": [
       "<Figure size 432x288 with 1 Axes>"
      ]
     },
     "metadata": {
      "needs_background": "light"
     },
     "output_type": "display_data"
    }
   ],
   "source": [
    "outpatient_chronic = full_data.loc[full_data.patientType=='outpatient'].filter(regex='Chronic')\n",
    "\n",
    "outpatient_chronic[outpatient_chronic==2].count().sort_values().plot(kind='barh')"
   ]
  },
  {
   "cell_type": "markdown",
   "metadata": {},
   "source": [
    "## Do those inpatient patients show worse health conditions (in terms of chronic diseases) than typical outpatient patients?"
   ]
  },
  {
   "cell_type": "code",
   "execution_count": 405,
   "metadata": {},
   "outputs": [
    {
     "data": {
      "text/plain": [
       "BeneID\n",
       "BENE100000    1.909091\n",
       "BENE100001    1.636364\n",
       "BENE100002    1.363636\n",
       "BENE100003    1.909091\n",
       "BENE100004    1.454545\n",
       "                ...   \n",
       "BENE99994     1.727273\n",
       "BENE99995     1.272727\n",
       "BENE99997     1.454545\n",
       "BENE99998     1.818182\n",
       "BENE99999     1.636364\n",
       "Length: 138556, dtype: float64"
      ]
     },
     "execution_count": 405,
     "metadata": {},
     "output_type": "execute_result"
    }
   ],
   "source": [
    "full_data.filter(regex='BeneID|Chronic').groupby('BeneID').mean().sum(axis=1)/11"
   ]
  },
  {
   "cell_type": "code",
   "execution_count": 406,
   "metadata": {},
   "outputs": [
    {
     "data": {
      "text/plain": [
       "Text(0.5, 0, 'type of patient')"
      ]
     },
     "execution_count": 406,
     "metadata": {},
     "output_type": "execute_result"
    },
    {
     "data": {
      "image/png": "[encoded data removed]",
      "text/plain": [
       "<Figure size 432x288 with 1 Axes>"
      ]
     },
     "metadata": {
      "needs_background": "light"
     },
     "output_type": "display_data"
    }
   ],
   "source": [
    "bene_chronic = full_data.filter(regex='Chronic|Bene|Type')\n",
    "bene_chronic = pd.DataFrame(bene_chronic.groupby(['BeneID', 'patientType']).mean().sum(axis=1)/11).reset_index()\n",
    "bene_chronic= bene_chronic.rename(columns={0:'chronic_risk'})\n",
    "\n",
    "sns.boxplot(x='patientType', y='chronic_risk', data=bene_chronic)\n",
    "plt.ylabel('chronic score')\n",
    "plt.xlabel('type of patient')\n",
    "                       "
   ]
  },
  {
   "cell_type": "markdown",
   "metadata": {},
   "source": [
    "##  Do those who have more visits to the providers have worse health conditions? Provide an analysis on these issues."
   ]
  },
  {
   "cell_type": "code",
   "execution_count": 407,
   "metadata": {},
   "outputs": [
    {
     "data": {
      "text/html": [
       "<div>\n",
       "<style scoped>\n",
       "    .dataframe tbody tr th:only-of-type {\n",
       "        vertical-align: middle;\n",
       "    }\n",
       "\n",
       "    .dataframe tbody tr th {\n",
       "        vertical-align: top;\n",
       "    }\n",
       "\n",
       "    .dataframe thead th {\n",
       "        text-align: right;\n",
       "    }\n",
       "</style>\n",
       "<table border=\"1\" class=\"dataframe\">\n",
       "  <thead>\n",
       "    <tr style=\"text-align: right;\">\n",
       "      <th></th>\n",
       "      <th>BeneID</th>\n",
       "      <th>chronic_risk</th>\n",
       "    </tr>\n",
       "  </thead>\n",
       "  <tbody>\n",
       "    <tr>\n",
       "      <th>0</th>\n",
       "      <td>BENE100000</td>\n",
       "      <td>1.909091</td>\n",
       "    </tr>\n",
       "    <tr>\n",
       "      <th>1</th>\n",
       "      <td>BENE100001</td>\n",
       "      <td>1.636364</td>\n",
       "    </tr>\n",
       "    <tr>\n",
       "      <th>2</th>\n",
       "      <td>BENE100002</td>\n",
       "      <td>1.363636</td>\n",
       "    </tr>\n",
       "    <tr>\n",
       "      <th>3</th>\n",
       "      <td>BENE100003</td>\n",
       "      <td>1.909091</td>\n",
       "    </tr>\n",
       "    <tr>\n",
       "      <th>4</th>\n",
       "      <td>BENE100004</td>\n",
       "      <td>1.454545</td>\n",
       "    </tr>\n",
       "    <tr>\n",
       "      <th>...</th>\n",
       "      <td>...</td>\n",
       "      <td>...</td>\n",
       "    </tr>\n",
       "    <tr>\n",
       "      <th>138551</th>\n",
       "      <td>BENE99994</td>\n",
       "      <td>1.727273</td>\n",
       "    </tr>\n",
       "    <tr>\n",
       "      <th>138552</th>\n",
       "      <td>BENE99995</td>\n",
       "      <td>1.272727</td>\n",
       "    </tr>\n",
       "    <tr>\n",
       "      <th>138553</th>\n",
       "      <td>BENE99997</td>\n",
       "      <td>1.454545</td>\n",
       "    </tr>\n",
       "    <tr>\n",
       "      <th>138554</th>\n",
       "      <td>BENE99998</td>\n",
       "      <td>1.818182</td>\n",
       "    </tr>\n",
       "    <tr>\n",
       "      <th>138555</th>\n",
       "      <td>BENE99999</td>\n",
       "      <td>1.636364</td>\n",
       "    </tr>\n",
       "  </tbody>\n",
       "</table>\n",
       "<p>138556 rows × 2 columns</p>\n",
       "</div>"
      ],
      "text/plain": [
       "            BeneID  chronic_risk\n",
       "0       BENE100000      1.909091\n",
       "1       BENE100001      1.636364\n",
       "2       BENE100002      1.363636\n",
       "3       BENE100003      1.909091\n",
       "4       BENE100004      1.454545\n",
       "...            ...           ...\n",
       "138551   BENE99994      1.727273\n",
       "138552   BENE99995      1.272727\n",
       "138553   BENE99997      1.454545\n",
       "138554   BENE99998      1.818182\n",
       "138555   BENE99999      1.636364\n",
       "\n",
       "[138556 rows x 2 columns]"
      ]
     },
     "execution_count": 407,
     "metadata": {},
     "output_type": "execute_result"
    }
   ],
   "source": [
    "bene_chronic2 = full_data.filter(regex='Chronic|Bene')\n",
    "bene_chronic2 = pd.DataFrame(bene_chronic2.groupby(['BeneID']).mean().sum(axis=1)/11).reset_index()\n",
    "bene_chronic2= bene_chronic2.rename(columns={0:'chronic_risk'})\n",
    "bene_chronic2"
   ]
  },
  {
   "cell_type": "code",
   "execution_count": 519,
   "metadata": {},
   "outputs": [
    {
     "data": {
      "image/png": "[encoded data removed]",
      "text/plain": [
       "<Figure size 432x432 with 3 Axes>"
      ]
     },
     "metadata": {},
     "output_type": "display_data"
    }
   ],
   "source": [
    "bene_claim = full_data.groupby('BeneID')['ClaimID'].size().reset_index()\n",
    "bene_claim\n",
    "bene_provider = pd.merge(bene_claim, bene_chronic2, on='BeneID', how='left')\n",
    "bene_provider\n",
    "\n",
    "\n",
    "with sns.axes_style(\"dark\"):\n",
    "    sns.jointplot(x=bene_provider.ClaimID, y=bene_provider.chronic_risk );\n"
   ]
  },
  {
   "cell_type": "markdown",
   "metadata": {},
   "source": [
    "## How many distinct patients (BeneIDs) are there in the in/out-patient datasets?"
   ]
  },
  {
   "cell_type": "code",
   "execution_count": 415,
   "metadata": {},
   "outputs": [
    {
     "data": {
      "text/plain": [
       "(133980,)"
      ]
     },
     "execution_count": 415,
     "metadata": {},
     "output_type": "execute_result"
    }
   ],
   "source": [
    "#There are 31,289 distinct inpatient patients\n",
    "full_data.loc[full_data.patientType=='inpatient'].BeneID.unique().shape\n",
    "\n",
    "#Tehre are 133,980 distinct outpatient patients\n",
    "full_data.loc[full_data.patientType=='outpatient'].BeneID.unique().shape"
   ]
  },
  {
   "cell_type": "markdown",
   "metadata": {},
   "source": [
    "## Do doctors serve for different providers?\n",
    "## Study the distribution of hospital counts/doctor?\n",
    "## Is it possible to characterize those doctors who move around among different providers?"
   ]
  },
  {
   "cell_type": "code",
   "execution_count": 514,
   "metadata": {},
   "outputs": [
    {
     "data": {
      "text/plain": [
       "<matplotlib.axes._subplots.AxesSubplot at 0x1a39a8b9a08>"
      ]
     },
     "execution_count": 514,
     "metadata": {},
     "output_type": "execute_result"
    },
    {
     "data": {
      "image/png": "[encoded data removed]",
      "text/plain": [
       "<Figure size 432x288 with 1 Axes>"
      ]
     },
     "metadata": {
      "needs_background": "light"
     },
     "output_type": "display_data"
    }
   ],
   "source": [
    "provider_doctor = full_data[['Provider', 'AttendingPhysician']].copy()\n",
    "\n",
    "provider_doctor = provider_doctor.groupby('AttendingPhysician')['Provider'].count().reset_index()\n",
    "provider_doctor.sort_values(by = 'Provider',ascending=False)\n",
    "\n",
    "provider_doctor.Provider.unique()\n",
    "\n",
    "sns.distplot(np.log(provider_doctor.Provider))\n",
    "\n"
   ]
  },
  {
   "cell_type": "markdown",
   "metadata": {},
   "source": [
    "## Do patients go to different hospitals? Study the distribution of hospital counts/patient? It is possible to characterize those patients who receive services from a lot of different hospitals?"
   ]
  },
  {
   "cell_type": "code",
   "execution_count": 515,
   "metadata": {},
   "outputs": [
    {
     "data": {
      "text/plain": [
       "<matplotlib.axes._subplots.AxesSubplot at 0x1a3a4309d88>"
      ]
     },
     "execution_count": 515,
     "metadata": {},
     "output_type": "execute_result"
    },
    {
     "data": {
      "image/png": "[encoded data removed]",
      "text/plain": [
       "<Figure size 432x288 with 1 Axes>"
      ]
     },
     "metadata": {
      "needs_background": "light"
     },
     "output_type": "display_data"
    }
   ],
   "source": [
    "provider_patient = full_data[['Provider', 'BeneID']].copy()\n",
    "\n",
    "provider_patient = provider_patient.groupby('BeneID')['Provider'].count().reset_index()\n",
    "provider_patient.Provider.unique()\n",
    "\n",
    "sns.distplot(provider_patient.Provider)"
   ]
  },
  {
   "cell_type": "markdown",
   "metadata": {},
   "source": [
    "## Do the same providers provide both inpatient and outpatient services? Summarize your finding."
   ]
  },
  {
   "cell_type": "code",
   "execution_count": 555,
   "metadata": {},
   "outputs": [
    {
     "data": {
      "text/html": [
       "<div>\n",
       "<style scoped>\n",
       "    .dataframe tbody tr th:only-of-type {\n",
       "        vertical-align: middle;\n",
       "    }\n",
       "\n",
       "    .dataframe tbody tr th {\n",
       "        vertical-align: top;\n",
       "    }\n",
       "\n",
       "    .dataframe thead th {\n",
       "        text-align: right;\n",
       "    }\n",
       "</style>\n",
       "<table border=\"1\" class=\"dataframe\">\n",
       "  <thead>\n",
       "    <tr style=\"text-align: right;\">\n",
       "      <th></th>\n",
       "      <th>Provider</th>\n",
       "      <th>patientType</th>\n",
       "    </tr>\n",
       "  </thead>\n",
       "  <tbody>\n",
       "    <tr>\n",
       "      <th>40474</th>\n",
       "      <td>PRV56011</td>\n",
       "      <td>outpatient</td>\n",
       "    </tr>\n",
       "    <tr>\n",
       "      <th>40475</th>\n",
       "      <td>PRV57610</td>\n",
       "      <td>outpatient</td>\n",
       "    </tr>\n",
       "    <tr>\n",
       "      <th>40476</th>\n",
       "      <td>PRV57595</td>\n",
       "      <td>outpatient</td>\n",
       "    </tr>\n",
       "    <tr>\n",
       "      <th>40477</th>\n",
       "      <td>PRV56011</td>\n",
       "      <td>outpatient</td>\n",
       "    </tr>\n",
       "    <tr>\n",
       "      <th>40478</th>\n",
       "      <td>PRV56011</td>\n",
       "      <td>outpatient</td>\n",
       "    </tr>\n",
       "    <tr>\n",
       "      <th>...</th>\n",
       "      <td>...</td>\n",
       "      <td>...</td>\n",
       "    </tr>\n",
       "    <tr>\n",
       "      <th>558206</th>\n",
       "      <td>PRV53699</td>\n",
       "      <td>outpatient</td>\n",
       "    </tr>\n",
       "    <tr>\n",
       "      <th>558207</th>\n",
       "      <td>PRV53702</td>\n",
       "      <td>outpatient</td>\n",
       "    </tr>\n",
       "    <tr>\n",
       "      <th>558208</th>\n",
       "      <td>PRV53676</td>\n",
       "      <td>outpatient</td>\n",
       "    </tr>\n",
       "    <tr>\n",
       "      <th>558209</th>\n",
       "      <td>PRV53689</td>\n",
       "      <td>outpatient</td>\n",
       "    </tr>\n",
       "    <tr>\n",
       "      <th>558210</th>\n",
       "      <td>PRV53689</td>\n",
       "      <td>outpatient</td>\n",
       "    </tr>\n",
       "  </tbody>\n",
       "</table>\n",
       "<p>517737 rows × 2 columns</p>\n",
       "</div>"
      ],
      "text/plain": [
       "        Provider patientType\n",
       "40474   PRV56011  outpatient\n",
       "40475   PRV57610  outpatient\n",
       "40476   PRV57595  outpatient\n",
       "40477   PRV56011  outpatient\n",
       "40478   PRV56011  outpatient\n",
       "...          ...         ...\n",
       "558206  PRV53699  outpatient\n",
       "558207  PRV53702  outpatient\n",
       "558208  PRV53676  outpatient\n",
       "558209  PRV53689  outpatient\n",
       "558210  PRV53689  outpatient\n",
       "\n",
       "[517737 rows x 2 columns]"
      ]
     },
     "execution_count": 555,
     "metadata": {},
     "output_type": "execute_result"
    }
   ],
   "source": [
    "provider_inpatient = full_data[['Provider', 'patientType']].copy()\n",
    "provider_inpatient= provider_inpatient.loc[provider_inpatient.patientType=='inpatient']\n",
    "provider_inpatient\n",
    "\n",
    "provider_outpatient = full_data[['Provider', 'patientType']].copy()\n",
    "provider_outpatient= provider_outpatient.loc[provider_outpatient.patientType=='outpatient']\n",
    "provider_outpatient"
   ]
  },
  {
   "cell_type": "code",
   "execution_count": 560,
   "metadata": {},
   "outputs": [
    {
     "data": {
      "text/plain": [
       "(1694,)"
      ]
     },
     "execution_count": 560,
     "metadata": {},
     "output_type": "execute_result"
    }
   ],
   "source": [
    "#There are 1694 providers that provide both inpatient and outpatient services\n",
    "provider_services = pd.merge(provider_outpatient, provider_inpatient, on='Provider')\n",
    "provider_services.Provider.unique().shape\n"
   ]
  },
  {
   "cell_type": "markdown",
   "metadata": {},
   "source": [
    "## Do Some of the same patients receive both inpatient and outpatient services? Summarize your finding."
   ]
  },
  {
   "cell_type": "code",
   "execution_count": 565,
   "metadata": {},
   "outputs": [
    {
     "data": {
      "text/plain": [
       "(26713,)"
      ]
     },
     "execution_count": 565,
     "metadata": {},
     "output_type": "execute_result"
    }
   ],
   "source": [
    "#There are 26,713 patients that received both inpatient and outpatient services\n",
    "\n",
    "patient_inpatient = full_data[['BeneID', 'patientType']].copy()\n",
    "patient_inpatient = patient_inpatient.loc[patient_inpatient.patientType=='inpatient']\n",
    "\n",
    "patient_outpatient = full_data[['BeneID', 'patientType']].copy()\n",
    "patient_outpatient = patient_outpatient.loc[patient_outpatient.patientType=='outpatient']\n",
    "\n",
    "patient_services = pd.merge(patient_outpatient, patient_inpatient, on='BeneID')\n",
    "patient_services.BeneID.unique().shape\n"
   ]
  }
 ],
 "metadata": {
  "kernelspec": {
   "display_name": "Python 3",
   "language": "python",
   "name": "python3"
  },
  "language_info": {
   "codemirror_mode": {
    "name": "ipython",
    "version": 3
   },
   "file_extension": ".py",
   "mimetype": "text/x-python",
   "name": "python",
   "nbconvert_exporter": "python",
   "pygments_lexer": "ipython3",
   "version": "3.7.6"
  }
 },
 "nbformat": 4,
 "nbformat_minor": 4
}
